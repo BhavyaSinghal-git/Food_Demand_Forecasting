{
  "cells": [
    {
      "cell_type": "markdown",
      "id": "11W0-QU7NRyc",
      "metadata": {
        "id": "11W0-QU7NRyc"
      },
      "source": [
        "PROBLEM STATEMENT"
      ]
    },
    {
      "cell_type": "markdown",
      "id": "P06OUwIqwxjE",
      "metadata": {
        "id": "P06OUwIqwxjE"
      },
      "source": [
        "Our client is a meal delivery company which operates in multiple cities. They have various fulfillment /packaging warehouses in these cities for dispatching meal orders to their customers. The client wants us to help these centers with demand forecasting for upcoming weeks so that these centers will plan the stock of raw materials accordingly.\n",
        "\n",
        "\n"
      ]
    },
    {
      "cell_type": "markdown",
      "id": "yns8DqQ5L3px",
      "metadata": {
        "id": "yns8DqQ5L3px"
      },
      "source": [
        "BUISNESS BENEFITS"
      ]
    },
    {
      "cell_type": "markdown",
      "id": "9Eg82-n-L6v9",
      "metadata": {
        "id": "9Eg82-n-L6v9"
      },
      "source": [
        "The replenishment of raw materials is done only on weekly basis and since the raw material is perishable, the procurement planning is of utmost importance.\n",
        "Therefore predicting the Demand helps in reducing the wastage of raw materials which would result in the reduced cost of operation. Increased customer satisfaction by timely fulfilling their expectations and requirements."
      ]
    },
    {
      "cell_type": "markdown",
      "id": "I_-1idu-gmxq",
      "metadata": {
        "id": "I_-1idu-gmxq"
      },
      "source": [
        "**AIM**"
      ]
    },
    {
      "cell_type": "markdown",
      "id": "B-3wq15yelmk",
      "metadata": {
        "id": "B-3wq15yelmk"
      },
      "source": [
        "The main aim of this project is to create an appropriate machine learning model to forecast then number of orders to gather raw materials for next ten weeks."
      ]
    },
    {
      "cell_type": "markdown",
      "id": "IejenUMEgagI",
      "metadata": {
        "id": "IejenUMEgagI"
      },
      "source": [
        "**INFORMATION REQUIRED**"
      ]
    },
    {
      "cell_type": "markdown",
      "id": "oWNeQFIXgkqA",
      "metadata": {
        "id": "oWNeQFIXgkqA"
      },
      "source": [
        "To achieve this, we should know the information about of fulfilment center like area, city etc., and meal information like category of food, sub category of food, price of the food  in particular week. "
      ]
    },
    {
      "cell_type": "code",
      "execution_count": 133,
      "id": "99a26fde",
      "metadata": {
        "id": "99a26fde"
      },
      "outputs": [],
      "source": [
        "import pandas as pd\n",
        "import numpy as np\n",
        "import matplotlib.pyplot as plt\n",
        "import seaborn as sns\n",
        "%matplotlib inline"
      ]
    },
    {
      "cell_type": "code",
      "execution_count": 134,
      "id": "bab95010",
      "metadata": {
        "id": "bab95010"
      },
      "outputs": [],
      "source": [
        "train=pd.read_csv('train.csv') \n",
        "test=pd.read_csv('test.csv')\n",
        "meal_info=pd.read_csv(\"meal_info.csv\")\n",
        "center_info=pd.read_csv(\"fulfilment_center_info.csv\")"
      ]
    },
    {
      "cell_type": "code",
      "execution_count": 135,
      "id": "aEu9CuzWha5y",
      "metadata": {
        "colab": {
          "base_uri": "https://localhost:8080/",
          "height": 206
        },
        "id": "aEu9CuzWha5y",
        "outputId": "3f5e43e6-fa29-4d19-e61b-bb0d4ac22cb4"
      },
      "outputs": [
        {
          "data": {
            "text/html": [
              "<div>\n",
              "<style scoped>\n",
              "    .dataframe tbody tr th:only-of-type {\n",
              "        vertical-align: middle;\n",
              "    }\n",
              "\n",
              "    .dataframe tbody tr th {\n",
              "        vertical-align: top;\n",
              "    }\n",
              "\n",
              "    .dataframe thead th {\n",
              "        text-align: right;\n",
              "    }\n",
              "</style>\n",
              "<table border=\"1\" class=\"dataframe\">\n",
              "  <thead>\n",
              "    <tr style=\"text-align: right;\">\n",
              "      <th></th>\n",
              "      <th>id</th>\n",
              "      <th>week</th>\n",
              "      <th>center_id</th>\n",
              "      <th>meal_id</th>\n",
              "      <th>checkout_price</th>\n",
              "      <th>base_price</th>\n",
              "      <th>emailer_for_promotion</th>\n",
              "      <th>homepage_featured</th>\n",
              "      <th>num_orders</th>\n",
              "    </tr>\n",
              "  </thead>\n",
              "  <tbody>\n",
              "    <tr>\n",
              "      <th>0</th>\n",
              "      <td>1379560</td>\n",
              "      <td>1</td>\n",
              "      <td>55</td>\n",
              "      <td>1885</td>\n",
              "      <td>136.83</td>\n",
              "      <td>152.29</td>\n",
              "      <td>0</td>\n",
              "      <td>0</td>\n",
              "      <td>177</td>\n",
              "    </tr>\n",
              "    <tr>\n",
              "      <th>1</th>\n",
              "      <td>1466964</td>\n",
              "      <td>1</td>\n",
              "      <td>55</td>\n",
              "      <td>1993</td>\n",
              "      <td>136.83</td>\n",
              "      <td>135.83</td>\n",
              "      <td>0</td>\n",
              "      <td>0</td>\n",
              "      <td>270</td>\n",
              "    </tr>\n",
              "    <tr>\n",
              "      <th>2</th>\n",
              "      <td>1346989</td>\n",
              "      <td>1</td>\n",
              "      <td>55</td>\n",
              "      <td>2539</td>\n",
              "      <td>134.86</td>\n",
              "      <td>135.86</td>\n",
              "      <td>0</td>\n",
              "      <td>0</td>\n",
              "      <td>189</td>\n",
              "    </tr>\n",
              "    <tr>\n",
              "      <th>3</th>\n",
              "      <td>1338232</td>\n",
              "      <td>1</td>\n",
              "      <td>55</td>\n",
              "      <td>2139</td>\n",
              "      <td>339.50</td>\n",
              "      <td>437.53</td>\n",
              "      <td>0</td>\n",
              "      <td>0</td>\n",
              "      <td>54</td>\n",
              "    </tr>\n",
              "    <tr>\n",
              "      <th>4</th>\n",
              "      <td>1448490</td>\n",
              "      <td>1</td>\n",
              "      <td>55</td>\n",
              "      <td>2631</td>\n",
              "      <td>243.50</td>\n",
              "      <td>242.50</td>\n",
              "      <td>0</td>\n",
              "      <td>0</td>\n",
              "      <td>40</td>\n",
              "    </tr>\n",
              "  </tbody>\n",
              "</table>\n",
              "</div>"
            ],
            "text/plain": [
              "        id  week  center_id  meal_id  checkout_price  base_price  \\\n",
              "0  1379560     1         55     1885          136.83      152.29   \n",
              "1  1466964     1         55     1993          136.83      135.83   \n",
              "2  1346989     1         55     2539          134.86      135.86   \n",
              "3  1338232     1         55     2139          339.50      437.53   \n",
              "4  1448490     1         55     2631          243.50      242.50   \n",
              "\n",
              "   emailer_for_promotion  homepage_featured  num_orders  \n",
              "0                      0                  0         177  \n",
              "1                      0                  0         270  \n",
              "2                      0                  0         189  \n",
              "3                      0                  0          54  \n",
              "4                      0                  0          40  "
            ]
          },
          "execution_count": 135,
          "metadata": {},
          "output_type": "execute_result"
        }
      ],
      "source": [
        "train.head()"
      ]
    },
    {
      "cell_type": "code",
      "execution_count": 136,
      "id": "dyJ8vqD_hfHY",
      "metadata": {
        "colab": {
          "base_uri": "https://localhost:8080/",
          "height": 206
        },
        "id": "dyJ8vqD_hfHY",
        "outputId": "696b2717-b9b5-48e0-94c7-1a86aa584bb0"
      },
      "outputs": [
        {
          "data": {
            "text/html": [
              "<div>\n",
              "<style scoped>\n",
              "    .dataframe tbody tr th:only-of-type {\n",
              "        vertical-align: middle;\n",
              "    }\n",
              "\n",
              "    .dataframe tbody tr th {\n",
              "        vertical-align: top;\n",
              "    }\n",
              "\n",
              "    .dataframe thead th {\n",
              "        text-align: right;\n",
              "    }\n",
              "</style>\n",
              "<table border=\"1\" class=\"dataframe\">\n",
              "  <thead>\n",
              "    <tr style=\"text-align: right;\">\n",
              "      <th></th>\n",
              "      <th>id</th>\n",
              "      <th>week</th>\n",
              "      <th>center_id</th>\n",
              "      <th>meal_id</th>\n",
              "      <th>checkout_price</th>\n",
              "      <th>base_price</th>\n",
              "      <th>emailer_for_promotion</th>\n",
              "      <th>homepage_featured</th>\n",
              "    </tr>\n",
              "  </thead>\n",
              "  <tbody>\n",
              "    <tr>\n",
              "      <th>0</th>\n",
              "      <td>1028232</td>\n",
              "      <td>146</td>\n",
              "      <td>55</td>\n",
              "      <td>1885</td>\n",
              "      <td>158.11</td>\n",
              "      <td>159.11</td>\n",
              "      <td>0</td>\n",
              "      <td>0</td>\n",
              "    </tr>\n",
              "    <tr>\n",
              "      <th>1</th>\n",
              "      <td>1127204</td>\n",
              "      <td>146</td>\n",
              "      <td>55</td>\n",
              "      <td>1993</td>\n",
              "      <td>160.11</td>\n",
              "      <td>159.11</td>\n",
              "      <td>0</td>\n",
              "      <td>0</td>\n",
              "    </tr>\n",
              "    <tr>\n",
              "      <th>2</th>\n",
              "      <td>1212707</td>\n",
              "      <td>146</td>\n",
              "      <td>55</td>\n",
              "      <td>2539</td>\n",
              "      <td>157.14</td>\n",
              "      <td>159.14</td>\n",
              "      <td>0</td>\n",
              "      <td>0</td>\n",
              "    </tr>\n",
              "    <tr>\n",
              "      <th>3</th>\n",
              "      <td>1082698</td>\n",
              "      <td>146</td>\n",
              "      <td>55</td>\n",
              "      <td>2631</td>\n",
              "      <td>162.02</td>\n",
              "      <td>162.02</td>\n",
              "      <td>0</td>\n",
              "      <td>0</td>\n",
              "    </tr>\n",
              "    <tr>\n",
              "      <th>4</th>\n",
              "      <td>1400926</td>\n",
              "      <td>146</td>\n",
              "      <td>55</td>\n",
              "      <td>1248</td>\n",
              "      <td>163.93</td>\n",
              "      <td>163.93</td>\n",
              "      <td>0</td>\n",
              "      <td>0</td>\n",
              "    </tr>\n",
              "  </tbody>\n",
              "</table>\n",
              "</div>"
            ],
            "text/plain": [
              "        id  week  center_id  meal_id  checkout_price  base_price  \\\n",
              "0  1028232   146         55     1885          158.11      159.11   \n",
              "1  1127204   146         55     1993          160.11      159.11   \n",
              "2  1212707   146         55     2539          157.14      159.14   \n",
              "3  1082698   146         55     2631          162.02      162.02   \n",
              "4  1400926   146         55     1248          163.93      163.93   \n",
              "\n",
              "   emailer_for_promotion  homepage_featured  \n",
              "0                      0                  0  \n",
              "1                      0                  0  \n",
              "2                      0                  0  \n",
              "3                      0                  0  \n",
              "4                      0                  0  "
            ]
          },
          "execution_count": 136,
          "metadata": {},
          "output_type": "execute_result"
        }
      ],
      "source": [
        "test.head()"
      ]
    },
    {
      "cell_type": "code",
      "execution_count": 137,
      "id": "29p2Cd8OinLa",
      "metadata": {
        "colab": {
          "base_uri": "https://localhost:8080/",
          "height": 299
        },
        "id": "29p2Cd8OinLa",
        "outputId": "d89f954c-92f1-4500-d230-ccb2940b1a54"
      },
      "outputs": [
        {
          "data": {
            "text/html": [
              "<div>\n",
              "<style scoped>\n",
              "    .dataframe tbody tr th:only-of-type {\n",
              "        vertical-align: middle;\n",
              "    }\n",
              "\n",
              "    .dataframe tbody tr th {\n",
              "        vertical-align: top;\n",
              "    }\n",
              "\n",
              "    .dataframe thead th {\n",
              "        text-align: right;\n",
              "    }\n",
              "</style>\n",
              "<table border=\"1\" class=\"dataframe\">\n",
              "  <thead>\n",
              "    <tr style=\"text-align: right;\">\n",
              "      <th></th>\n",
              "      <th>id</th>\n",
              "      <th>week</th>\n",
              "      <th>center_id</th>\n",
              "      <th>meal_id</th>\n",
              "      <th>checkout_price</th>\n",
              "      <th>base_price</th>\n",
              "      <th>emailer_for_promotion</th>\n",
              "      <th>homepage_featured</th>\n",
              "      <th>num_orders</th>\n",
              "    </tr>\n",
              "  </thead>\n",
              "  <tbody>\n",
              "    <tr>\n",
              "      <th>count</th>\n",
              "      <td>4.565480e+05</td>\n",
              "      <td>456548.000000</td>\n",
              "      <td>456548.000000</td>\n",
              "      <td>456548.000000</td>\n",
              "      <td>456548.000000</td>\n",
              "      <td>456548.000000</td>\n",
              "      <td>456548.000000</td>\n",
              "      <td>456548.00000</td>\n",
              "      <td>456548.000000</td>\n",
              "    </tr>\n",
              "    <tr>\n",
              "      <th>mean</th>\n",
              "      <td>1.250096e+06</td>\n",
              "      <td>74.768771</td>\n",
              "      <td>82.105796</td>\n",
              "      <td>2024.337458</td>\n",
              "      <td>332.238933</td>\n",
              "      <td>354.156627</td>\n",
              "      <td>0.081152</td>\n",
              "      <td>0.10920</td>\n",
              "      <td>261.872760</td>\n",
              "    </tr>\n",
              "    <tr>\n",
              "      <th>std</th>\n",
              "      <td>1.443548e+05</td>\n",
              "      <td>41.524956</td>\n",
              "      <td>45.975046</td>\n",
              "      <td>547.420920</td>\n",
              "      <td>152.939723</td>\n",
              "      <td>160.715914</td>\n",
              "      <td>0.273069</td>\n",
              "      <td>0.31189</td>\n",
              "      <td>395.922798</td>\n",
              "    </tr>\n",
              "    <tr>\n",
              "      <th>min</th>\n",
              "      <td>1.000000e+06</td>\n",
              "      <td>1.000000</td>\n",
              "      <td>10.000000</td>\n",
              "      <td>1062.000000</td>\n",
              "      <td>2.970000</td>\n",
              "      <td>55.350000</td>\n",
              "      <td>0.000000</td>\n",
              "      <td>0.00000</td>\n",
              "      <td>13.000000</td>\n",
              "    </tr>\n",
              "    <tr>\n",
              "      <th>25%</th>\n",
              "      <td>1.124999e+06</td>\n",
              "      <td>39.000000</td>\n",
              "      <td>43.000000</td>\n",
              "      <td>1558.000000</td>\n",
              "      <td>228.950000</td>\n",
              "      <td>243.500000</td>\n",
              "      <td>0.000000</td>\n",
              "      <td>0.00000</td>\n",
              "      <td>54.000000</td>\n",
              "    </tr>\n",
              "    <tr>\n",
              "      <th>50%</th>\n",
              "      <td>1.250184e+06</td>\n",
              "      <td>76.000000</td>\n",
              "      <td>76.000000</td>\n",
              "      <td>1993.000000</td>\n",
              "      <td>296.820000</td>\n",
              "      <td>310.460000</td>\n",
              "      <td>0.000000</td>\n",
              "      <td>0.00000</td>\n",
              "      <td>136.000000</td>\n",
              "    </tr>\n",
              "    <tr>\n",
              "      <th>75%</th>\n",
              "      <td>1.375140e+06</td>\n",
              "      <td>111.000000</td>\n",
              "      <td>110.000000</td>\n",
              "      <td>2539.000000</td>\n",
              "      <td>445.230000</td>\n",
              "      <td>458.870000</td>\n",
              "      <td>0.000000</td>\n",
              "      <td>0.00000</td>\n",
              "      <td>324.000000</td>\n",
              "    </tr>\n",
              "    <tr>\n",
              "      <th>max</th>\n",
              "      <td>1.499999e+06</td>\n",
              "      <td>145.000000</td>\n",
              "      <td>186.000000</td>\n",
              "      <td>2956.000000</td>\n",
              "      <td>866.270000</td>\n",
              "      <td>866.270000</td>\n",
              "      <td>1.000000</td>\n",
              "      <td>1.00000</td>\n",
              "      <td>24299.000000</td>\n",
              "    </tr>\n",
              "  </tbody>\n",
              "</table>\n",
              "</div>"
            ],
            "text/plain": [
              "                 id           week      center_id        meal_id  \\\n",
              "count  4.565480e+05  456548.000000  456548.000000  456548.000000   \n",
              "mean   1.250096e+06      74.768771      82.105796    2024.337458   \n",
              "std    1.443548e+05      41.524956      45.975046     547.420920   \n",
              "min    1.000000e+06       1.000000      10.000000    1062.000000   \n",
              "25%    1.124999e+06      39.000000      43.000000    1558.000000   \n",
              "50%    1.250184e+06      76.000000      76.000000    1993.000000   \n",
              "75%    1.375140e+06     111.000000     110.000000    2539.000000   \n",
              "max    1.499999e+06     145.000000     186.000000    2956.000000   \n",
              "\n",
              "       checkout_price     base_price  emailer_for_promotion  \\\n",
              "count   456548.000000  456548.000000          456548.000000   \n",
              "mean       332.238933     354.156627               0.081152   \n",
              "std        152.939723     160.715914               0.273069   \n",
              "min          2.970000      55.350000               0.000000   \n",
              "25%        228.950000     243.500000               0.000000   \n",
              "50%        296.820000     310.460000               0.000000   \n",
              "75%        445.230000     458.870000               0.000000   \n",
              "max        866.270000     866.270000               1.000000   \n",
              "\n",
              "       homepage_featured     num_orders  \n",
              "count       456548.00000  456548.000000  \n",
              "mean             0.10920     261.872760  \n",
              "std              0.31189     395.922798  \n",
              "min              0.00000      13.000000  \n",
              "25%              0.00000      54.000000  \n",
              "50%              0.00000     136.000000  \n",
              "75%              0.00000     324.000000  \n",
              "max              1.00000   24299.000000  "
            ]
          },
          "execution_count": 137,
          "metadata": {},
          "output_type": "execute_result"
        }
      ],
      "source": [
        "train.describe()"
      ]
    },
    {
      "cell_type": "markdown",
      "id": "sTot1SDruuu1",
      "metadata": {
        "id": "sTot1SDruuu1"
      },
      "source": [
        "Following columns are having 0 values\n",
        "\n",
        "\n",
        "*   emailer_for_promotion\t\n",
        "*   homepage_featured\n",
        "\n"
      ]
    },
    {
      "cell_type": "markdown",
      "id": "n5j8ncCovTvt",
      "metadata": {
        "id": "n5j8ncCovTvt"
      },
      "source": [
        "Checking for NULL values in training dataset"
      ]
    },
    {
      "cell_type": "code",
      "execution_count": 138,
      "id": "bb2ca7a0",
      "metadata": {
        "colab": {
          "base_uri": "https://localhost:8080/"
        },
        "id": "bb2ca7a0",
        "outputId": "3b1e68b5-c4bf-4421-f5a0-7424f2e1adcc",
        "scrolled": true
      },
      "outputs": [
        {
          "data": {
            "text/plain": [
              "id                       0\n",
              "week                     0\n",
              "center_id                0\n",
              "meal_id                  0\n",
              "checkout_price           0\n",
              "base_price               0\n",
              "emailer_for_promotion    0\n",
              "homepage_featured        0\n",
              "num_orders               0\n",
              "dtype: int64"
            ]
          },
          "execution_count": 138,
          "metadata": {},
          "output_type": "execute_result"
        }
      ],
      "source": [
        "train.isna().sum()"
      ]
    },
    {
      "cell_type": "code",
      "execution_count": 139,
      "id": "48fb0ddc",
      "metadata": {
        "colab": {
          "base_uri": "https://localhost:8080/"
        },
        "id": "48fb0ddc",
        "outputId": "94967660-99e7-4068-c80f-ad0d3650210e"
      },
      "outputs": [
        {
          "data": {
            "text/plain": [
              "(456548, 9)"
            ]
          },
          "execution_count": 139,
          "metadata": {},
          "output_type": "execute_result"
        }
      ],
      "source": [
        "train.shape"
      ]
    },
    {
      "cell_type": "markdown",
      "id": "QYVp1CERviSW",
      "metadata": {
        "id": "QYVp1CERviSW"
      },
      "source": [
        "NULL values in meal_info dataset"
      ]
    },
    {
      "cell_type": "code",
      "execution_count": 140,
      "id": "M13on76ihsXR",
      "metadata": {
        "colab": {
          "base_uri": "https://localhost:8080/",
          "height": 206
        },
        "id": "M13on76ihsXR",
        "outputId": "2dd7ffec-a604-46d2-b2ec-94dc964071a9"
      },
      "outputs": [
        {
          "data": {
            "text/html": [
              "<div>\n",
              "<style scoped>\n",
              "    .dataframe tbody tr th:only-of-type {\n",
              "        vertical-align: middle;\n",
              "    }\n",
              "\n",
              "    .dataframe tbody tr th {\n",
              "        vertical-align: top;\n",
              "    }\n",
              "\n",
              "    .dataframe thead th {\n",
              "        text-align: right;\n",
              "    }\n",
              "</style>\n",
              "<table border=\"1\" class=\"dataframe\">\n",
              "  <thead>\n",
              "    <tr style=\"text-align: right;\">\n",
              "      <th></th>\n",
              "      <th>meal_id</th>\n",
              "      <th>category</th>\n",
              "      <th>cuisine</th>\n",
              "    </tr>\n",
              "  </thead>\n",
              "  <tbody>\n",
              "    <tr>\n",
              "      <th>0</th>\n",
              "      <td>1885</td>\n",
              "      <td>Beverages</td>\n",
              "      <td>Thai</td>\n",
              "    </tr>\n",
              "    <tr>\n",
              "      <th>1</th>\n",
              "      <td>1993</td>\n",
              "      <td>Beverages</td>\n",
              "      <td>Thai</td>\n",
              "    </tr>\n",
              "    <tr>\n",
              "      <th>2</th>\n",
              "      <td>2539</td>\n",
              "      <td>Beverages</td>\n",
              "      <td>Thai</td>\n",
              "    </tr>\n",
              "    <tr>\n",
              "      <th>3</th>\n",
              "      <td>1248</td>\n",
              "      <td>Beverages</td>\n",
              "      <td>Indian</td>\n",
              "    </tr>\n",
              "    <tr>\n",
              "      <th>4</th>\n",
              "      <td>2631</td>\n",
              "      <td>Beverages</td>\n",
              "      <td>Indian</td>\n",
              "    </tr>\n",
              "  </tbody>\n",
              "</table>\n",
              "</div>"
            ],
            "text/plain": [
              "   meal_id   category cuisine\n",
              "0     1885  Beverages    Thai\n",
              "1     1993  Beverages    Thai\n",
              "2     2539  Beverages    Thai\n",
              "3     1248  Beverages  Indian\n",
              "4     2631  Beverages  Indian"
            ]
          },
          "execution_count": 140,
          "metadata": {},
          "output_type": "execute_result"
        }
      ],
      "source": [
        "meal_info.head()"
      ]
    },
    {
      "cell_type": "code",
      "execution_count": 141,
      "id": "KzYU92FdvnOE",
      "metadata": {
        "colab": {
          "base_uri": "https://localhost:8080/"
        },
        "id": "KzYU92FdvnOE",
        "outputId": "5a467ac9-789c-41ec-a570-19795a7f2840"
      },
      "outputs": [
        {
          "name": "stdout",
          "output_type": "stream",
          "text": [
            "<class 'pandas.core.frame.DataFrame'>\n",
            "RangeIndex: 51 entries, 0 to 50\n",
            "Data columns (total 3 columns):\n",
            " #   Column    Non-Null Count  Dtype \n",
            "---  ------    --------------  ----- \n",
            " 0   meal_id   51 non-null     int64 \n",
            " 1   category  51 non-null     object\n",
            " 2   cuisine   51 non-null     object\n",
            "dtypes: int64(1), object(2)\n",
            "memory usage: 1.3+ KB\n"
          ]
        }
      ],
      "source": [
        " meal_info.info()"
      ]
    },
    {
      "cell_type": "code",
      "execution_count": 142,
      "id": "9ea7967d",
      "metadata": {
        "colab": {
          "base_uri": "https://localhost:8080/"
        },
        "id": "9ea7967d",
        "outputId": "a19df077-d110-475b-85cf-be07ef4f6f7c"
      },
      "outputs": [
        {
          "data": {
            "text/plain": [
              "meal_id     0\n",
              "category    0\n",
              "cuisine     0\n",
              "dtype: int64"
            ]
          },
          "execution_count": 142,
          "metadata": {},
          "output_type": "execute_result"
        }
      ],
      "source": [
        "meal_info.isnull().sum()"
      ]
    },
    {
      "cell_type": "markdown",
      "id": "gWDP_3PpwK-D",
      "metadata": {
        "id": "gWDP_3PpwK-D"
      },
      "source": [
        "NULL values in center_info dataset"
      ]
    },
    {
      "cell_type": "code",
      "execution_count": 143,
      "id": "A4XMet_Khv1Q",
      "metadata": {
        "colab": {
          "base_uri": "https://localhost:8080/",
          "height": 422
        },
        "id": "A4XMet_Khv1Q",
        "outputId": "08708798-3d09-4a74-fbed-52baa1c1a34b"
      },
      "outputs": [
        {
          "data": {
            "text/html": [
              "<div>\n",
              "<style scoped>\n",
              "    .dataframe tbody tr th:only-of-type {\n",
              "        vertical-align: middle;\n",
              "    }\n",
              "\n",
              "    .dataframe tbody tr th {\n",
              "        vertical-align: top;\n",
              "    }\n",
              "\n",
              "    .dataframe thead th {\n",
              "        text-align: right;\n",
              "    }\n",
              "</style>\n",
              "<table border=\"1\" class=\"dataframe\">\n",
              "  <thead>\n",
              "    <tr style=\"text-align: right;\">\n",
              "      <th></th>\n",
              "      <th>center_id</th>\n",
              "      <th>city_code</th>\n",
              "      <th>region_code</th>\n",
              "      <th>center_type</th>\n",
              "      <th>op_area</th>\n",
              "    </tr>\n",
              "  </thead>\n",
              "  <tbody>\n",
              "    <tr>\n",
              "      <th>0</th>\n",
              "      <td>11</td>\n",
              "      <td>679</td>\n",
              "      <td>56</td>\n",
              "      <td>TYPE_A</td>\n",
              "      <td>3.7</td>\n",
              "    </tr>\n",
              "    <tr>\n",
              "      <th>1</th>\n",
              "      <td>13</td>\n",
              "      <td>590</td>\n",
              "      <td>56</td>\n",
              "      <td>TYPE_B</td>\n",
              "      <td>6.7</td>\n",
              "    </tr>\n",
              "    <tr>\n",
              "      <th>2</th>\n",
              "      <td>124</td>\n",
              "      <td>590</td>\n",
              "      <td>56</td>\n",
              "      <td>TYPE_C</td>\n",
              "      <td>4.0</td>\n",
              "    </tr>\n",
              "    <tr>\n",
              "      <th>3</th>\n",
              "      <td>66</td>\n",
              "      <td>648</td>\n",
              "      <td>34</td>\n",
              "      <td>TYPE_A</td>\n",
              "      <td>4.1</td>\n",
              "    </tr>\n",
              "    <tr>\n",
              "      <th>4</th>\n",
              "      <td>94</td>\n",
              "      <td>632</td>\n",
              "      <td>34</td>\n",
              "      <td>TYPE_C</td>\n",
              "      <td>3.6</td>\n",
              "    </tr>\n",
              "    <tr>\n",
              "      <th>...</th>\n",
              "      <td>...</td>\n",
              "      <td>...</td>\n",
              "      <td>...</td>\n",
              "      <td>...</td>\n",
              "      <td>...</td>\n",
              "    </tr>\n",
              "    <tr>\n",
              "      <th>72</th>\n",
              "      <td>53</td>\n",
              "      <td>590</td>\n",
              "      <td>56</td>\n",
              "      <td>TYPE_A</td>\n",
              "      <td>3.8</td>\n",
              "    </tr>\n",
              "    <tr>\n",
              "      <th>73</th>\n",
              "      <td>30</td>\n",
              "      <td>604</td>\n",
              "      <td>56</td>\n",
              "      <td>TYPE_A</td>\n",
              "      <td>3.5</td>\n",
              "    </tr>\n",
              "    <tr>\n",
              "      <th>74</th>\n",
              "      <td>76</td>\n",
              "      <td>614</td>\n",
              "      <td>85</td>\n",
              "      <td>TYPE_A</td>\n",
              "      <td>3.0</td>\n",
              "    </tr>\n",
              "    <tr>\n",
              "      <th>75</th>\n",
              "      <td>68</td>\n",
              "      <td>676</td>\n",
              "      <td>34</td>\n",
              "      <td>TYPE_B</td>\n",
              "      <td>4.1</td>\n",
              "    </tr>\n",
              "    <tr>\n",
              "      <th>76</th>\n",
              "      <td>51</td>\n",
              "      <td>638</td>\n",
              "      <td>56</td>\n",
              "      <td>TYPE_A</td>\n",
              "      <td>7.0</td>\n",
              "    </tr>\n",
              "  </tbody>\n",
              "</table>\n",
              "<p>77 rows × 5 columns</p>\n",
              "</div>"
            ],
            "text/plain": [
              "    center_id  city_code  region_code center_type  op_area\n",
              "0          11        679           56      TYPE_A      3.7\n",
              "1          13        590           56      TYPE_B      6.7\n",
              "2         124        590           56      TYPE_C      4.0\n",
              "3          66        648           34      TYPE_A      4.1\n",
              "4          94        632           34      TYPE_C      3.6\n",
              "..        ...        ...          ...         ...      ...\n",
              "72         53        590           56      TYPE_A      3.8\n",
              "73         30        604           56      TYPE_A      3.5\n",
              "74         76        614           85      TYPE_A      3.0\n",
              "75         68        676           34      TYPE_B      4.1\n",
              "76         51        638           56      TYPE_A      7.0\n",
              "\n",
              "[77 rows x 5 columns]"
            ]
          },
          "execution_count": 143,
          "metadata": {},
          "output_type": "execute_result"
        }
      ],
      "source": [
        "center_info"
      ]
    },
    {
      "cell_type": "code",
      "execution_count": 144,
      "id": "8e698272",
      "metadata": {
        "colab": {
          "base_uri": "https://localhost:8080/"
        },
        "id": "8e698272",
        "outputId": "2bb1a048-68c7-4fbb-e3d0-f2f090c446f8"
      },
      "outputs": [
        {
          "name": "stdout",
          "output_type": "stream",
          "text": [
            "<class 'pandas.core.frame.DataFrame'>\n",
            "RangeIndex: 77 entries, 0 to 76\n",
            "Data columns (total 5 columns):\n",
            " #   Column       Non-Null Count  Dtype  \n",
            "---  ------       --------------  -----  \n",
            " 0   center_id    77 non-null     int64  \n",
            " 1   city_code    77 non-null     int64  \n",
            " 2   region_code  77 non-null     int64  \n",
            " 3   center_type  77 non-null     object \n",
            " 4   op_area      77 non-null     float64\n",
            "dtypes: float64(1), int64(3), object(1)\n",
            "memory usage: 7.3 KB\n"
          ]
        }
      ],
      "source": [
        "center_info.info(memory_usage='deep')\n",
        "#memory usgae return the memory usage for each column in bytes"
      ]
    },
    {
      "cell_type": "code",
      "execution_count": 145,
      "id": "6823681b",
      "metadata": {
        "colab": {
          "base_uri": "https://localhost:8080/"
        },
        "id": "6823681b",
        "outputId": "02dbcfba-3561-4ce5-cfe8-3d6492c21104"
      },
      "outputs": [
        {
          "data": {
            "text/plain": [
              "center_id      0\n",
              "city_code      0\n",
              "region_code    0\n",
              "center_type    0\n",
              "op_area        0\n",
              "dtype: int64"
            ]
          },
          "execution_count": 145,
          "metadata": {},
          "output_type": "execute_result"
        }
      ],
      "source": [
        "center_info.isnull().sum()"
      ]
    },
    {
      "cell_type": "code",
      "execution_count": 146,
      "id": "8f710604",
      "metadata": {
        "colab": {
          "base_uri": "https://localhost:8080/",
          "height": 175
        },
        "id": "8f710604",
        "outputId": "55022c46-98e8-4dd6-f3cc-40d81ba1278f"
      },
      "outputs": [
        {
          "data": {
            "text/html": [
              "<div>\n",
              "<style scoped>\n",
              "    .dataframe tbody tr th:only-of-type {\n",
              "        vertical-align: middle;\n",
              "    }\n",
              "\n",
              "    .dataframe tbody tr th {\n",
              "        vertical-align: top;\n",
              "    }\n",
              "\n",
              "    .dataframe thead th {\n",
              "        text-align: right;\n",
              "    }\n",
              "</style>\n",
              "<table border=\"1\" class=\"dataframe\">\n",
              "  <thead>\n",
              "    <tr style=\"text-align: right;\">\n",
              "      <th></th>\n",
              "      <th>category</th>\n",
              "      <th>cuisine</th>\n",
              "    </tr>\n",
              "  </thead>\n",
              "  <tbody>\n",
              "    <tr>\n",
              "      <th>count</th>\n",
              "      <td>51</td>\n",
              "      <td>51</td>\n",
              "    </tr>\n",
              "    <tr>\n",
              "      <th>unique</th>\n",
              "      <td>14</td>\n",
              "      <td>4</td>\n",
              "    </tr>\n",
              "    <tr>\n",
              "      <th>top</th>\n",
              "      <td>Beverages</td>\n",
              "      <td>Thai</td>\n",
              "    </tr>\n",
              "    <tr>\n",
              "      <th>freq</th>\n",
              "      <td>12</td>\n",
              "      <td>15</td>\n",
              "    </tr>\n",
              "  </tbody>\n",
              "</table>\n",
              "</div>"
            ],
            "text/plain": [
              "         category cuisine\n",
              "count          51      51\n",
              "unique         14       4\n",
              "top     Beverages    Thai\n",
              "freq           12      15"
            ]
          },
          "execution_count": 146,
          "metadata": {},
          "output_type": "execute_result"
        }
      ],
      "source": [
        "meal_info.describe(include=['object'])"
      ]
    },
    {
      "cell_type": "markdown",
      "id": "F8chm4bcw23z",
      "metadata": {
        "id": "F8chm4bcw23z"
      },
      "source": [
        "Data Exploration"
      ]
    },
    {
      "cell_type": "code",
      "execution_count": 147,
      "id": "6e156231",
      "metadata": {
        "id": "6e156231"
      },
      "outputs": [],
      "source": [
        "train=pd.merge(train,meal_info,on='meal_id',how='inner')"
      ]
    },
    {
      "cell_type": "code",
      "execution_count": 148,
      "id": "aed71cf4",
      "metadata": {
        "id": "aed71cf4"
      },
      "outputs": [],
      "source": [
        "train=train.merge(center_info,on='center_id',how='inner')"
      ]
    },
    {
      "cell_type": "code",
      "execution_count": 149,
      "id": "4iAQpSRpA6SB",
      "metadata": {
        "colab": {
          "base_uri": "https://localhost:8080/",
          "height": 911
        },
        "id": "4iAQpSRpA6SB",
        "outputId": "73694060-b7b5-41da-d1c1-b9d2c3820561"
      },
      "outputs": [
        {
          "data": {
            "text/plain": [
              "<AxesSubplot:>"
            ]
          },
          "execution_count": 149,
          "metadata": {},
          "output_type": "execute_result"
        },
        {
          "data": {
            "image/png": "[encoded data removed]",
            "text/plain": [
              "<Figure size 1152x1008 with 2 Axes>"
            ]
          },
          "metadata": {
            "needs_background": "light"
          },
          "output_type": "display_data"
        }
      ],
      "source": [
        "plt.figure(figsize=(16,14))\n",
        "sns.heatmap(train.corr(),annot=True, square=True, cmap='Reds')"
      ]
    },
    {
      "cell_type": "markdown",
      "id": "Q3FNnblxcsBs",
      "metadata": {
        "id": "Q3FNnblxcsBs"
      },
      "source": [
        "Strong correlation between base price and checkout price"
      ]
    },
    {
      "cell_type": "code",
      "execution_count": 150,
      "id": "Abz25I-9BJv_",
      "metadata": {
        "colab": {
          "base_uri": "https://localhost:8080/",
          "height": 481
        },
        "id": "Abz25I-9BJv_",
        "outputId": "9939e70f-8c5a-4ec5-b5b6-a73c748244e8"
      },
      "outputs": [
        {
          "data": {
            "text/plain": [
              "Text(0.5, 0, 'Center Type')"
            ]
          },
          "execution_count": 150,
          "metadata": {},
          "output_type": "execute_result"
        },
        {
          "data": {
            "image/png": "[encoded data removed]",
            "text/plain": [
              "<Figure size 288x504 with 1 Axes>"
            ]
          },
          "metadata": {
            "needs_background": "light"
          },
          "output_type": "display_data"
        }
      ],
      "source": [
        "fig=plt.figure(figsize=(4,7))\n",
        "plt.title('Total No. of Orders for Each Center type',fontdict={'fontsize':13})\n",
        "sns.barplot(y='num_orders', x='center_type', data=train.groupby('center_type').sum()['num_orders'].reset_index(),palette='autumn');\n",
        "plt.ylabel('No. of Orders',)\n",
        "plt.xlabel('Center Type',fontdict={'fontsize':12})\n"
      ]
    },
    {
      "cell_type": "code",
      "execution_count": 151,
      "id": "b3HXZzLcFYow",
      "metadata": {
        "colab": {
          "base_uri": "https://localhost:8080/",
          "height": 142
        },
        "id": "b3HXZzLcFYow",
        "outputId": "593a97cf-4240-4bf1-d55a-a4cc43e122fa"
      },
      "outputs": [
        {
          "data": {
            "text/html": [
              "<div>\n",
              "<style scoped>\n",
              "    .dataframe tbody tr th:only-of-type {\n",
              "        vertical-align: middle;\n",
              "    }\n",
              "\n",
              "    .dataframe tbody tr th {\n",
              "        vertical-align: top;\n",
              "    }\n",
              "\n",
              "    .dataframe thead th {\n",
              "        text-align: right;\n",
              "    }\n",
              "</style>\n",
              "<table border=\"1\" class=\"dataframe\">\n",
              "  <thead>\n",
              "    <tr style=\"text-align: right;\">\n",
              "      <th></th>\n",
              "      <th>center_type</th>\n",
              "      <th>num_orders</th>\n",
              "    </tr>\n",
              "  </thead>\n",
              "  <tbody>\n",
              "    <tr>\n",
              "      <th>0</th>\n",
              "      <td>TYPE_A</td>\n",
              "      <td>68978517</td>\n",
              "    </tr>\n",
              "    <tr>\n",
              "      <th>1</th>\n",
              "      <td>TYPE_B</td>\n",
              "      <td>29996073</td>\n",
              "    </tr>\n",
              "    <tr>\n",
              "      <th>2</th>\n",
              "      <td>TYPE_C</td>\n",
              "      <td>20582895</td>\n",
              "    </tr>\n",
              "  </tbody>\n",
              "</table>\n",
              "</div>"
            ],
            "text/plain": [
              "  center_type  num_orders\n",
              "0      TYPE_A    68978517\n",
              "1      TYPE_B    29996073\n",
              "2      TYPE_C    20582895"
            ]
          },
          "execution_count": 151,
          "metadata": {},
          "output_type": "execute_result"
        }
      ],
      "source": [
        "train.groupby('center_type').sum()['num_orders'].reset_index()"
      ]
    },
    {
      "cell_type": "markdown",
      "id": "DVLNffVuC22T",
      "metadata": {
        "id": "DVLNffVuC22T"
      },
      "source": [
        "Type_A Centers have the highest number of Orders placed and Type_C has the least."
      ]
    },
    {
      "cell_type": "code",
      "execution_count": 152,
      "id": "buCydyfKC77T",
      "metadata": {
        "colab": {
          "base_uri": "https://localhost:8080/"
        },
        "id": "buCydyfKC77T",
        "outputId": "9b4073cb-5b71-4f62-a246-f62377f3ba69"
      },
      "outputs": [
        {
          "data": {
            "text/plain": [
              "77"
            ]
          },
          "execution_count": 152,
          "metadata": {},
          "output_type": "execute_result"
        }
      ],
      "source": [
        "train['center_id'].nunique()"
      ]
    },
    {
      "cell_type": "markdown",
      "id": "3Z_qD5cTDM67",
      "metadata": {
        "id": "3Z_qD5cTDM67"
      },
      "source": [
        "The are are 77 Fullfilment Centers in total."
      ]
    },
    {
      "cell_type": "code",
      "execution_count": 153,
      "id": "jqnbMF2UDPPj",
      "metadata": {
        "colab": {
          "base_uri": "https://localhost:8080/",
          "height": 517
        },
        "id": "jqnbMF2UDPPj",
        "outputId": "c4b75b80-9528-4ec5-a2e5-4b0f0fb58357"
      },
      "outputs": [
        {
          "data": {
            "image/png": "[encoded data removed]",
            "text/plain": [
              "<Figure size 720x576 with 1 Axes>"
            ]
          },
          "metadata": {
            "needs_background": "light"
          },
          "output_type": "display_data"
        }
      ],
      "source": [
        "fig=plt.figure(figsize=(10,8))\n",
        "plt.title('Top 20 Centers with Highest No. of Orders',fontdict={'fontsize':14})\n",
        "sns.barplot(y='num_orders', x='center_id', data=train.groupby(['center_id','center_type']).num_orders.sum().sort_values(ascending=False).reset_index().head(20),palette='YlOrRd_r',order=list(train.groupby(['center_id','center_type']).num_orders.sum().sort_values(ascending=False).reset_index().head(20)['center_id']));\n",
        "plt.ylabel('No. of Orders',fontdict={'fontsize':12})\n",
        "plt.xlabel('Center ID',fontdict={'fontsize':12})\n",
        "sns.despine(bottom = True, left = True);"
      ]
    },
    {
      "cell_type": "code",
      "execution_count": 154,
      "id": "8RYah2Dr7Q_U",
      "metadata": {
        "colab": {
          "base_uri": "https://localhost:8080/",
          "height": 436
        },
        "id": "8RYah2Dr7Q_U",
        "outputId": "e9b8fd98-6f50-4f31-9ea1-207b0db6b61d"
      },
      "outputs": [
        {
          "data": {
            "image/png": "[encoded data removed]",
            "text/plain": [
              "<Figure size 432x432 with 1 Axes>"
            ]
          },
          "metadata": {},
          "output_type": "display_data"
        }
      ],
      "source": [
        "plt.figure(figsize=(6,6))\n",
        "colors = ['coral','#FFDAB9','yellowgreen','#6495ED']\n",
        "plt.pie(train.groupby(['cuisine']).num_orders.sum(),\n",
        "    labels=train.groupby(['cuisine']).num_orders.sum().index,\n",
        "    shadow=False,\n",
        "    colors=colors,\n",
        "    explode=(0.05, 0.05, 0.03,0.05),\n",
        "    startangle=90, \n",
        "    autopct='%1.1f%%',pctdistance=0.6,\n",
        "    textprops={'fontsize': 12})\n",
        "plt.title('Total Number of Orders for Each Category')\n",
        "plt.tight_layout()\n",
        "plt.show()"
      ]
    },
    {
      "cell_type": "markdown",
      "id": "J3pdfIf97Zi9",
      "metadata": {
        "id": "J3pdfIf97Zi9"
      },
      "source": [
        "Italian Cuisine has the highest number of orders with Continental cuisine being the least."
      ]
    },
    {
      "cell_type": "code",
      "execution_count": 155,
      "id": "4AsauR677RkB",
      "metadata": {
        "colab": {
          "base_uri": "https://localhost:8080/",
          "height": 587
        },
        "id": "4AsauR677RkB",
        "outputId": "c3c05d8c-50cd-43c9-e1b9-0d2f4f7c19bd"
      },
      "outputs": [
        {
          "data": {
            "image/png": "[encoded data removed]",
            "text/plain": [
              "<Figure size 792x576 with 1 Axes>"
            ]
          },
          "metadata": {
            "needs_background": "light"
          },
          "output_type": "display_data"
        }
      ],
      "source": [
        "fig=plt.figure(figsize=(11,8))\n",
        "sns.set_style(\"white\")\n",
        "\n",
        "plt.xticks(rotation=90,fontsize=12)\n",
        "plt.title('Total Number of Orders for Each Category',fontdict={'fontsize':14})\n",
        "sns.barplot(y='num_orders', x='category', data=train.groupby('category').num_orders.sum().sort_values(ascending=False).reset_index(),palette='YlOrRd_r');\n",
        "plt.ylabel('No. of Orders',fontdict={'fontsize':12})\n",
        "plt.xlabel('Category',fontdict={'fontsize':12})\n",
        "sns.despine(bottom = True, left = True);"
      ]
    },
    {
      "cell_type": "markdown",
      "id": "a0PUjG5X7pqL",
      "metadata": {
        "id": "a0PUjG5X7pqL"
      },
      "source": [
        "We could see that Beverages are the food category which has the higest number of orders and Biriyani is the food category with least number of orders."
      ]
    },
    {
      "cell_type": "code",
      "execution_count": 156,
      "id": "w7tVKuuH7c6B",
      "metadata": {
        "colab": {
          "base_uri": "https://localhost:8080/",
          "height": 587
        },
        "id": "w7tVKuuH7c6B",
        "outputId": "4b970321-3223-49b4-e328-4178da4e1d00"
      },
      "outputs": [
        {
          "data": {
            "image/png": "[encoded data removed]",
            "text/plain": [
              "<Figure size 1296x576 with 1 Axes>"
            ]
          },
          "metadata": {},
          "output_type": "display_data"
        }
      ],
      "source": [
        "fig=plt.figure(figsize=(18,8))\n",
        "sns.set_style(\"white\")\n",
        "plt.xticks(rotation=90,fontsize=12)\n",
        "plt.title('Total Number of Orders for Each Cuisine-Category',fontdict={'fontsize':14})\n",
        "\n",
        "sns.barplot(x='category',y='num_orders',data=train.groupby(['cuisine','category']).sum().sort_values(by='num_orders', ascending=False).reset_index(),hue='cuisine',palette='YlOrRd_r')\n",
        "\n",
        "plt.ylabel('No. of Orders',fontdict={'fontsize':12})\n",
        "plt.xlabel('Cuisine-Category',fontdict={'fontsize':12})\n",
        "sns.despine(bottom = True, left = True);"
      ]
    },
    {
      "cell_type": "markdown",
      "id": "fNj_8n0G7_Jg",
      "metadata": {
        "id": "fNj_8n0G7_Jg"
      },
      "source": [
        "Similary when we checked which specific cuisne-food category has the highest number of orders, we could see that Indian-Rice Bowl has the highest number of orders and Indian-Biriyani has the least."
      ]
    },
    {
      "cell_type": "code",
      "execution_count": 157,
      "id": "366797d3",
      "metadata": {
        "colab": {
          "base_uri": "https://localhost:8080/",
          "height": 550
        },
        "id": "366797d3",
        "outputId": "e18028bd-f6a1-436e-be0f-ecb5690bedb1"
      },
      "outputs": [
        {
          "data": {
            "text/html": [
              "<div>\n",
              "<style scoped>\n",
              "    .dataframe tbody tr th:only-of-type {\n",
              "        vertical-align: middle;\n",
              "    }\n",
              "\n",
              "    .dataframe tbody tr th {\n",
              "        vertical-align: top;\n",
              "    }\n",
              "\n",
              "    .dataframe thead tr th {\n",
              "        text-align: left;\n",
              "    }\n",
              "\n",
              "    .dataframe thead tr:last-of-type th {\n",
              "        text-align: right;\n",
              "    }\n",
              "</style>\n",
              "<table border=\"1\" class=\"dataframe\">\n",
              "  <thead>\n",
              "    <tr>\n",
              "      <th></th>\n",
              "      <th colspan=\"4\" halign=\"left\">category</th>\n",
              "    </tr>\n",
              "    <tr>\n",
              "      <th>cuisine</th>\n",
              "      <th>Continental</th>\n",
              "      <th>Indian</th>\n",
              "      <th>Italian</th>\n",
              "      <th>Thai</th>\n",
              "    </tr>\n",
              "    <tr>\n",
              "      <th>category</th>\n",
              "      <th></th>\n",
              "      <th></th>\n",
              "      <th></th>\n",
              "      <th></th>\n",
              "    </tr>\n",
              "  </thead>\n",
              "  <tbody>\n",
              "    <tr>\n",
              "      <th>Beverages</th>\n",
              "      <td>3</td>\n",
              "      <td>3</td>\n",
              "      <td>3</td>\n",
              "      <td>3</td>\n",
              "    </tr>\n",
              "    <tr>\n",
              "      <th>Biryani</th>\n",
              "      <td>0</td>\n",
              "      <td>3</td>\n",
              "      <td>0</td>\n",
              "      <td>0</td>\n",
              "    </tr>\n",
              "    <tr>\n",
              "      <th>Desert</th>\n",
              "      <td>0</td>\n",
              "      <td>3</td>\n",
              "      <td>0</td>\n",
              "      <td>0</td>\n",
              "    </tr>\n",
              "    <tr>\n",
              "      <th>Extras</th>\n",
              "      <td>0</td>\n",
              "      <td>0</td>\n",
              "      <td>0</td>\n",
              "      <td>3</td>\n",
              "    </tr>\n",
              "    <tr>\n",
              "      <th>Fish</th>\n",
              "      <td>3</td>\n",
              "      <td>0</td>\n",
              "      <td>0</td>\n",
              "      <td>0</td>\n",
              "    </tr>\n",
              "    <tr>\n",
              "      <th>Other Snacks</th>\n",
              "      <td>0</td>\n",
              "      <td>0</td>\n",
              "      <td>0</td>\n",
              "      <td>3</td>\n",
              "    </tr>\n",
              "    <tr>\n",
              "      <th>Pasta</th>\n",
              "      <td>0</td>\n",
              "      <td>0</td>\n",
              "      <td>3</td>\n",
              "      <td>0</td>\n",
              "    </tr>\n",
              "    <tr>\n",
              "      <th>Pizza</th>\n",
              "      <td>3</td>\n",
              "      <td>0</td>\n",
              "      <td>0</td>\n",
              "      <td>0</td>\n",
              "    </tr>\n",
              "    <tr>\n",
              "      <th>Rice Bowl</th>\n",
              "      <td>0</td>\n",
              "      <td>3</td>\n",
              "      <td>0</td>\n",
              "      <td>0</td>\n",
              "    </tr>\n",
              "    <tr>\n",
              "      <th>Salad</th>\n",
              "      <td>0</td>\n",
              "      <td>0</td>\n",
              "      <td>3</td>\n",
              "      <td>0</td>\n",
              "    </tr>\n",
              "    <tr>\n",
              "      <th>Sandwich</th>\n",
              "      <td>0</td>\n",
              "      <td>0</td>\n",
              "      <td>3</td>\n",
              "      <td>0</td>\n",
              "    </tr>\n",
              "    <tr>\n",
              "      <th>Seafood</th>\n",
              "      <td>3</td>\n",
              "      <td>0</td>\n",
              "      <td>0</td>\n",
              "      <td>0</td>\n",
              "    </tr>\n",
              "    <tr>\n",
              "      <th>Soup</th>\n",
              "      <td>0</td>\n",
              "      <td>0</td>\n",
              "      <td>0</td>\n",
              "      <td>3</td>\n",
              "    </tr>\n",
              "    <tr>\n",
              "      <th>Starters</th>\n",
              "      <td>0</td>\n",
              "      <td>0</td>\n",
              "      <td>0</td>\n",
              "      <td>3</td>\n",
              "    </tr>\n",
              "  </tbody>\n",
              "</table>\n",
              "</div>"
            ],
            "text/plain": [
              "                category                    \n",
              "cuisine      Continental Indian Italian Thai\n",
              "category                                    \n",
              "Beverages              3      3       3    3\n",
              "Biryani                0      3       0    0\n",
              "Desert                 0      3       0    0\n",
              "Extras                 0      0       0    3\n",
              "Fish                   3      0       0    0\n",
              "Other Snacks           0      0       0    3\n",
              "Pasta                  0      0       3    0\n",
              "Pizza                  3      0       0    0\n",
              "Rice Bowl              0      3       0    0\n",
              "Salad                  0      0       3    0\n",
              "Sandwich               0      0       3    0\n",
              "Seafood                3      0       0    0\n",
              "Soup                   0      0       0    3\n",
              "Starters               0      0       0    3"
            ]
          },
          "execution_count": 157,
          "metadata": {},
          "output_type": "execute_result"
        }
      ],
      "source": [
        "pd.pivot_table(data=meal_info,index='category',columns=['cuisine'],aggfunc={'category':'count'},fill_value=0)"
      ]
    },
    {
      "cell_type": "code",
      "execution_count": 158,
      "id": "7ba26cee",
      "metadata": {
        "colab": {
          "base_uri": "https://localhost:8080/"
        },
        "id": "7ba26cee",
        "outputId": "80065d37-f488-4be3-cf83-584e577a0f03"
      },
      "outputs": [
        {
          "name": "stdout",
          "output_type": "stream",
          "text": [
            "Total orders Per Week:-\n",
            "week-1--->792261 orders.\n",
            "week-2--->787084 orders.\n",
            "week-3--->695262 orders.\n",
            "week-4--->743529 orders.\n",
            "week-5--->1198675 orders.\n",
            "week-6--->947288 orders.\n",
            "week-7--->934803 orders.\n",
            "week-8--->670518 orders.\n",
            "week-9--->723243 orders.\n",
            "week-10--->811825 orders.\n",
            "week-11--->772225 orders.\n",
            "week-12--->690259 orders.\n",
            "week-13--->656102 orders.\n",
            "week-14--->636981 orders.\n",
            "week-15--->651719 orders.\n",
            "week-16--->611515 orders.\n",
            "week-17--->820285 orders.\n",
            "week-18--->932560 orders.\n",
            "week-19--->787196 orders.\n",
            "week-20--->677834 orders.\n",
            "week-21--->707013 orders.\n",
            "week-22--->834111 orders.\n",
            "week-23--->773271 orders.\n",
            "week-24--->647341 orders.\n",
            "week-25--->749583 orders.\n",
            "week-26--->805805 orders.\n",
            "week-27--->740014 orders.\n",
            "week-28--->648863 orders.\n",
            "week-29--->625414 orders.\n",
            "week-30--->915399 orders.\n",
            "week-31--->783214 orders.\n",
            "week-32--->1034202 orders.\n",
            "week-33--->730936 orders.\n",
            "week-34--->693603 orders.\n",
            "week-35--->630458 orders.\n",
            "week-36--->724865 orders.\n",
            "week-37--->877853 orders.\n",
            "week-38--->974566 orders.\n",
            "week-39--->770964 orders.\n",
            "week-40--->807159 orders.\n",
            "week-41--->791493 orders.\n",
            "week-42--->766289 orders.\n",
            "week-43--->693271 orders.\n",
            "week-44--->738583 orders.\n",
            "week-45--->981199 orders.\n",
            "week-46--->862620 orders.\n",
            "week-47--->808269 orders.\n",
            "week-48--->1303457 orders.\n",
            "week-49--->936980 orders.\n",
            "week-50--->890778 orders.\n",
            "week-51--->723036 orders.\n",
            "week-52--->1046811 orders.\n",
            "week-53--->1108236 orders.\n",
            "week-54--->757268 orders.\n",
            "week-55--->875145 orders.\n",
            "week-56--->843250 orders.\n",
            "week-57--->916721 orders.\n",
            "week-58--->834445 orders.\n",
            "week-59--->776781 orders.\n",
            "week-60--->1131459 orders.\n",
            "week-61--->860105 orders.\n",
            "week-62--->380065 orders.\n",
            "week-63--->812075 orders.\n",
            "week-64--->784508 orders.\n",
            "week-65--->844869 orders.\n",
            "week-66--->710083 orders.\n",
            "week-67--->756281 orders.\n",
            "week-68--->1009974 orders.\n",
            "week-69--->1075188 orders.\n",
            "week-70--->1004649 orders.\n",
            "week-71--->1015726 orders.\n",
            "week-72--->732551 orders.\n",
            "week-73--->702678 orders.\n",
            "week-74--->789591 orders.\n",
            "week-75--->970760 orders.\n",
            "week-76--->902928 orders.\n",
            "week-77--->833394 orders.\n",
            "week-78--->862030 orders.\n",
            "week-79--->1004611 orders.\n",
            "week-80--->698063 orders.\n",
            "week-81--->681412 orders.\n",
            "week-82--->859477 orders.\n",
            "week-83--->900091 orders.\n",
            "week-84--->768315 orders.\n",
            "week-85--->860433 orders.\n",
            "week-86--->823515 orders.\n",
            "week-87--->805140 orders.\n",
            "week-88--->745193 orders.\n",
            "week-89--->743489 orders.\n",
            "week-90--->849868 orders.\n",
            "week-91--->834397 orders.\n",
            "week-92--->908145 orders.\n",
            "week-93--->900170 orders.\n",
            "week-94--->825030 orders.\n",
            "week-95--->905841 orders.\n",
            "week-96--->765117 orders.\n",
            "week-97--->609977 orders.\n",
            "week-98--->894021 orders.\n",
            "week-99--->742048 orders.\n",
            "week-100--->1088162 orders.\n",
            "week-101--->999447 orders.\n",
            "week-102--->890983 orders.\n",
            "week-103--->713569 orders.\n",
            "week-104--->774644 orders.\n",
            "week-105--->891479 orders.\n",
            "week-106--->847485 orders.\n",
            "week-107--->783851 orders.\n",
            "week-108--->908764 orders.\n",
            "week-109--->1068318 orders.\n",
            "week-110--->889255 orders.\n",
            "week-111--->892631 orders.\n",
            "week-112--->852107 orders.\n",
            "week-113--->889696 orders.\n",
            "week-114--->813601 orders.\n",
            "week-115--->805469 orders.\n",
            "week-116--->855465 orders.\n",
            "week-117--->809625 orders.\n",
            "week-118--->777707 orders.\n",
            "week-119--->811709 orders.\n",
            "week-120--->753871 orders.\n",
            "week-121--->950500 orders.\n",
            "week-122--->944706 orders.\n",
            "week-123--->889926 orders.\n",
            "week-124--->827257 orders.\n",
            "week-125--->750541 orders.\n",
            "week-126--->810838 orders.\n",
            "week-127--->762737 orders.\n",
            "week-128--->878397 orders.\n",
            "week-129--->843661 orders.\n",
            "week-130--->920019 orders.\n",
            "week-131--->899953 orders.\n",
            "week-132--->939374 orders.\n",
            "week-133--->835583 orders.\n",
            "week-134--->975072 orders.\n",
            "week-135--->777106 orders.\n",
            "week-136--->769623 orders.\n",
            "week-137--->719740 orders.\n",
            "week-138--->667343 orders.\n",
            "week-139--->751935 orders.\n",
            "week-140--->802689 orders.\n",
            "week-141--->776240 orders.\n",
            "week-142--->739661 orders.\n",
            "week-143--->759926 orders.\n",
            "week-144--->801197 orders.\n",
            "week-145--->671926 orders.\n"
          ]
        }
      ],
      "source": [
        "print('Total orders Per Week:-')\n",
        "for i in train.week.unique():\n",
        "    print(f'week-{i}--->{train[train.week==i].num_orders.sum()} orders.')"
      ]
    },
    {
      "cell_type": "code",
      "execution_count": 159,
      "id": "rQJcDtO1Hq0A",
      "metadata": {
        "colab": {
          "base_uri": "https://localhost:8080/",
          "height": 461
        },
        "id": "rQJcDtO1Hq0A",
        "outputId": "bafce86b-2c5d-49b9-fc2c-7c8a9efd4234"
      },
      "outputs": [
        {
          "data": {
            "image/png": "[encoded data removed]",
            "text/plain": [
              "<Figure size 1152x504 with 1 Axes>"
            ]
          },
          "metadata": {},
          "output_type": "display_data"
        }
      ],
      "source": [
        "fig=plt.figure(figsize=(16,7))\n",
        "sns.set_style(\"whitegrid\")\n",
        "plt.title('Pattern of Orders',fontdict={'fontsize':14})\n",
        "\n",
        "sns.pointplot(x=train.groupby('week').sum().reset_index()['week'],y=train.groupby('week').sum().reset_index()['num_orders'],color='coral')\n",
        "#plt.xticks(range(0, 150, 10), list(np.arange(0,160,10)))\n",
        "plt.ylabel('No. of Orders',fontdict={'fontsize':12})\n",
        "plt.xlabel('Week',fontdict={'fontsize':12})\n",
        "sns.despine(bottom = True, left = True);"
      ]
    },
    {
      "cell_type": "markdown",
      "id": "W76FrOYXHwd6",
      "metadata": {
        "id": "W76FrOYXHwd6"
      },
      "source": [
        "When we analysed the trend of order placed over the weeks, we could see that the highest number of orders were received in week 48 and the lowest in week 62."
      ]
    },
    {
      "cell_type": "code",
      "execution_count": 160,
      "id": "b62d8459",
      "metadata": {
        "colab": {
          "base_uri": "https://localhost:8080/",
          "height": 1000
        },
        "id": "b62d8459",
        "outputId": "cacfded5-3e98-48f5-8cc3-c6984a8cd365"
      },
      "outputs": [
        {
          "data": {
            "text/html": [
              "<div>\n",
              "<style scoped>\n",
              "    .dataframe tbody tr th:only-of-type {\n",
              "        vertical-align: middle;\n",
              "    }\n",
              "\n",
              "    .dataframe tbody tr th {\n",
              "        vertical-align: top;\n",
              "    }\n",
              "\n",
              "    .dataframe thead th {\n",
              "        text-align: right;\n",
              "    }\n",
              "</style>\n",
              "<table border=\"1\" class=\"dataframe\">\n",
              "  <thead>\n",
              "    <tr style=\"text-align: right;\">\n",
              "      <th></th>\n",
              "      <th></th>\n",
              "      <th>avg_area_op</th>\n",
              "      <th>avg_base_price</th>\n",
              "      <th>avg_checkout_price</th>\n",
              "      <th>max_base_price</th>\n",
              "      <th>max_checkout_price</th>\n",
              "      <th>homepage_and_email</th>\n",
              "      <th>total_num_of_orders</th>\n",
              "    </tr>\n",
              "    <tr>\n",
              "      <th>center_type</th>\n",
              "      <th>category</th>\n",
              "      <th></th>\n",
              "      <th></th>\n",
              "      <th></th>\n",
              "      <th></th>\n",
              "      <th></th>\n",
              "      <th></th>\n",
              "      <th></th>\n",
              "    </tr>\n",
              "  </thead>\n",
              "  <tbody>\n",
              "    <tr>\n",
              "      <th rowspan=\"11\" valign=\"top\">TYPE_A</th>\n",
              "      <th>Beverages</th>\n",
              "      <td>4.145879</td>\n",
              "      <td>270.343118</td>\n",
              "      <td>211.002390</td>\n",
              "      <td>515.13</td>\n",
              "      <td>515.13</td>\n",
              "      <td>1456</td>\n",
              "      <td>927676</td>\n",
              "    </tr>\n",
              "    <tr>\n",
              "      <th>Desert</th>\n",
              "      <td>4.081250</td>\n",
              "      <td>478.699107</td>\n",
              "      <td>368.911756</td>\n",
              "      <td>602.43</td>\n",
              "      <td>602.43</td>\n",
              "      <td>336</td>\n",
              "      <td>53105</td>\n",
              "    </tr>\n",
              "    <tr>\n",
              "      <th>Fish</th>\n",
              "      <td>4.413636</td>\n",
              "      <td>630.711818</td>\n",
              "      <td>437.497273</td>\n",
              "      <td>631.53</td>\n",
              "      <td>631.53</td>\n",
              "      <td>44</td>\n",
              "      <td>8044</td>\n",
              "    </tr>\n",
              "    <tr>\n",
              "      <th>Other Snacks</th>\n",
              "      <td>3.911211</td>\n",
              "      <td>288.021166</td>\n",
              "      <td>243.141031</td>\n",
              "      <td>292.03</td>\n",
              "      <td>292.03</td>\n",
              "      <td>223</td>\n",
              "      <td>50474</td>\n",
              "    </tr>\n",
              "    <tr>\n",
              "      <th>Pasta</th>\n",
              "      <td>4.152000</td>\n",
              "      <td>428.921553</td>\n",
              "      <td>344.437200</td>\n",
              "      <td>641.23</td>\n",
              "      <td>641.23</td>\n",
              "      <td>425</td>\n",
              "      <td>41427</td>\n",
              "    </tr>\n",
              "    <tr>\n",
              "      <th>Pizza</th>\n",
              "      <td>4.106515</td>\n",
              "      <td>643.094229</td>\n",
              "      <td>487.706934</td>\n",
              "      <td>728.53</td>\n",
              "      <td>728.53</td>\n",
              "      <td>3346</td>\n",
              "      <td>1565165</td>\n",
              "    </tr>\n",
              "    <tr>\n",
              "      <th>Rice Bowl</th>\n",
              "      <td>4.076098</td>\n",
              "      <td>340.325618</td>\n",
              "      <td>239.136772</td>\n",
              "      <td>466.63</td>\n",
              "      <td>466.63</td>\n",
              "      <td>1230</td>\n",
              "      <td>2561874</td>\n",
              "    </tr>\n",
              "    <tr>\n",
              "      <th>Salad</th>\n",
              "      <td>4.116517</td>\n",
              "      <td>285.715723</td>\n",
              "      <td>213.555839</td>\n",
              "      <td>363.81</td>\n",
              "      <td>363.81</td>\n",
              "      <td>781</td>\n",
              "      <td>926559</td>\n",
              "    </tr>\n",
              "    <tr>\n",
              "      <th>Sandwich</th>\n",
              "      <td>4.074718</td>\n",
              "      <td>302.295444</td>\n",
              "      <td>221.027697</td>\n",
              "      <td>367.69</td>\n",
              "      <td>367.69</td>\n",
              "      <td>1420</td>\n",
              "      <td>2512111</td>\n",
              "    </tr>\n",
              "    <tr>\n",
              "      <th>Seafood</th>\n",
              "      <td>4.164391</td>\n",
              "      <td>675.746876</td>\n",
              "      <td>459.852724</td>\n",
              "      <td>865.27</td>\n",
              "      <td>865.27</td>\n",
              "      <td>1626</td>\n",
              "      <td>513711</td>\n",
              "    </tr>\n",
              "    <tr>\n",
              "      <th>Starters</th>\n",
              "      <td>4.074396</td>\n",
              "      <td>286.507657</td>\n",
              "      <td>206.358913</td>\n",
              "      <td>292.03</td>\n",
              "      <td>292.03</td>\n",
              "      <td>414</td>\n",
              "      <td>189400</td>\n",
              "    </tr>\n",
              "    <tr>\n",
              "      <th rowspan=\"11\" valign=\"top\">TYPE_B</th>\n",
              "      <th>Beverages</th>\n",
              "      <td>4.846889</td>\n",
              "      <td>268.229356</td>\n",
              "      <td>202.767067</td>\n",
              "      <td>515.13</td>\n",
              "      <td>515.13</td>\n",
              "      <td>450</td>\n",
              "      <td>280274</td>\n",
              "    </tr>\n",
              "    <tr>\n",
              "      <th>Desert</th>\n",
              "      <td>4.798039</td>\n",
              "      <td>484.281503</td>\n",
              "      <td>366.444706</td>\n",
              "      <td>737.23</td>\n",
              "      <td>737.23</td>\n",
              "      <td>153</td>\n",
              "      <td>35005</td>\n",
              "    </tr>\n",
              "    <tr>\n",
              "      <th>Fish</th>\n",
              "      <td>5.582609</td>\n",
              "      <td>629.006522</td>\n",
              "      <td>437.370870</td>\n",
              "      <td>631.53</td>\n",
              "      <td>631.53</td>\n",
              "      <td>23</td>\n",
              "      <td>8192</td>\n",
              "    </tr>\n",
              "    <tr>\n",
              "      <th>Other Snacks</th>\n",
              "      <td>4.086747</td>\n",
              "      <td>289.966867</td>\n",
              "      <td>243.512048</td>\n",
              "      <td>313.37</td>\n",
              "      <td>313.37</td>\n",
              "      <td>83</td>\n",
              "      <td>29348</td>\n",
              "    </tr>\n",
              "    <tr>\n",
              "      <th>Pasta</th>\n",
              "      <td>4.740104</td>\n",
              "      <td>431.718854</td>\n",
              "      <td>346.956719</td>\n",
              "      <td>553.93</td>\n",
              "      <td>553.93</td>\n",
              "      <td>192</td>\n",
              "      <td>29063</td>\n",
              "    </tr>\n",
              "    <tr>\n",
              "      <th>Pizza</th>\n",
              "      <td>4.716667</td>\n",
              "      <td>643.701394</td>\n",
              "      <td>485.565000</td>\n",
              "      <td>699.43</td>\n",
              "      <td>699.43</td>\n",
              "      <td>1248</td>\n",
              "      <td>604302</td>\n",
              "    </tr>\n",
              "    <tr>\n",
              "      <th>Rice Bowl</th>\n",
              "      <td>4.745814</td>\n",
              "      <td>341.805465</td>\n",
              "      <td>239.483535</td>\n",
              "      <td>466.63</td>\n",
              "      <td>466.63</td>\n",
              "      <td>430</td>\n",
              "      <td>988797</td>\n",
              "    </tr>\n",
              "    <tr>\n",
              "      <th>Salad</th>\n",
              "      <td>4.935156</td>\n",
              "      <td>285.931328</td>\n",
              "      <td>212.502266</td>\n",
              "      <td>362.81</td>\n",
              "      <td>362.81</td>\n",
              "      <td>256</td>\n",
              "      <td>277528</td>\n",
              "    </tr>\n",
              "    <tr>\n",
              "      <th>Sandwich</th>\n",
              "      <td>4.791718</td>\n",
              "      <td>300.607184</td>\n",
              "      <td>220.736190</td>\n",
              "      <td>376.42</td>\n",
              "      <td>376.42</td>\n",
              "      <td>483</td>\n",
              "      <td>777687</td>\n",
              "    </tr>\n",
              "    <tr>\n",
              "      <th>Seafood</th>\n",
              "      <td>4.842390</td>\n",
              "      <td>671.391686</td>\n",
              "      <td>460.336939</td>\n",
              "      <td>767.33</td>\n",
              "      <td>767.33</td>\n",
              "      <td>611</td>\n",
              "      <td>237745</td>\n",
              "    </tr>\n",
              "    <tr>\n",
              "      <th>Starters</th>\n",
              "      <td>4.771739</td>\n",
              "      <td>286.220000</td>\n",
              "      <td>205.834275</td>\n",
              "      <td>292.03</td>\n",
              "      <td>292.03</td>\n",
              "      <td>138</td>\n",
              "      <td>86782</td>\n",
              "    </tr>\n",
              "    <tr>\n",
              "      <th rowspan=\"10\" valign=\"top\">TYPE_C</th>\n",
              "      <th>Beverages</th>\n",
              "      <td>3.384704</td>\n",
              "      <td>274.926233</td>\n",
              "      <td>217.524398</td>\n",
              "      <td>515.13</td>\n",
              "      <td>515.13</td>\n",
              "      <td>523</td>\n",
              "      <td>261701</td>\n",
              "    </tr>\n",
              "    <tr>\n",
              "      <th>Desert</th>\n",
              "      <td>3.436667</td>\n",
              "      <td>476.201000</td>\n",
              "      <td>369.323444</td>\n",
              "      <td>563.63</td>\n",
              "      <td>563.63</td>\n",
              "      <td>90</td>\n",
              "      <td>12516</td>\n",
              "    </tr>\n",
              "    <tr>\n",
              "      <th>Other Snacks</th>\n",
              "      <td>3.421429</td>\n",
              "      <td>285.968929</td>\n",
              "      <td>243.259643</td>\n",
              "      <td>292.03</td>\n",
              "      <td>292.03</td>\n",
              "      <td>28</td>\n",
              "      <td>2230</td>\n",
              "    </tr>\n",
              "    <tr>\n",
              "      <th>Pasta</th>\n",
              "      <td>3.545361</td>\n",
              "      <td>417.859072</td>\n",
              "      <td>333.459691</td>\n",
              "      <td>553.93</td>\n",
              "      <td>553.93</td>\n",
              "      <td>97</td>\n",
              "      <td>6447</td>\n",
              "    </tr>\n",
              "    <tr>\n",
              "      <th>Pizza</th>\n",
              "      <td>3.399421</td>\n",
              "      <td>641.576777</td>\n",
              "      <td>488.513256</td>\n",
              "      <td>699.43</td>\n",
              "      <td>699.43</td>\n",
              "      <td>1210</td>\n",
              "      <td>525142</td>\n",
              "    </tr>\n",
              "    <tr>\n",
              "      <th>Rice Bowl</th>\n",
              "      <td>3.217814</td>\n",
              "      <td>345.178117</td>\n",
              "      <td>247.121174</td>\n",
              "      <td>466.63</td>\n",
              "      <td>466.63</td>\n",
              "      <td>494</td>\n",
              "      <td>654962</td>\n",
              "    </tr>\n",
              "    <tr>\n",
              "      <th>Salad</th>\n",
              "      <td>3.311644</td>\n",
              "      <td>280.275582</td>\n",
              "      <td>211.940856</td>\n",
              "      <td>363.81</td>\n",
              "      <td>363.81</td>\n",
              "      <td>292</td>\n",
              "      <td>391007</td>\n",
              "    </tr>\n",
              "    <tr>\n",
              "      <th>Sandwich</th>\n",
              "      <td>3.230035</td>\n",
              "      <td>300.195851</td>\n",
              "      <td>223.144844</td>\n",
              "      <td>353.14</td>\n",
              "      <td>353.14</td>\n",
              "      <td>576</td>\n",
              "      <td>1031963</td>\n",
              "    </tr>\n",
              "    <tr>\n",
              "      <th>Seafood</th>\n",
              "      <td>3.524638</td>\n",
              "      <td>673.301594</td>\n",
              "      <td>460.982899</td>\n",
              "      <td>767.33</td>\n",
              "      <td>767.33</td>\n",
              "      <td>414</td>\n",
              "      <td>76067</td>\n",
              "    </tr>\n",
              "    <tr>\n",
              "      <th>Starters</th>\n",
              "      <td>3.526619</td>\n",
              "      <td>286.719928</td>\n",
              "      <td>206.068201</td>\n",
              "      <td>292.03</td>\n",
              "      <td>292.03</td>\n",
              "      <td>139</td>\n",
              "      <td>30924</td>\n",
              "    </tr>\n",
              "  </tbody>\n",
              "</table>\n",
              "</div>"
            ],
            "text/plain": [
              "                          avg_area_op  avg_base_price  avg_checkout_price  \\\n",
              "center_type category                                                        \n",
              "TYPE_A      Beverages        4.145879      270.343118          211.002390   \n",
              "            Desert           4.081250      478.699107          368.911756   \n",
              "            Fish             4.413636      630.711818          437.497273   \n",
              "            Other Snacks     3.911211      288.021166          243.141031   \n",
              "            Pasta            4.152000      428.921553          344.437200   \n",
              "            Pizza            4.106515      643.094229          487.706934   \n",
              "            Rice Bowl        4.076098      340.325618          239.136772   \n",
              "            Salad            4.116517      285.715723          213.555839   \n",
              "            Sandwich         4.074718      302.295444          221.027697   \n",
              "            Seafood          4.164391      675.746876          459.852724   \n",
              "            Starters         4.074396      286.507657          206.358913   \n",
              "TYPE_B      Beverages        4.846889      268.229356          202.767067   \n",
              "            Desert           4.798039      484.281503          366.444706   \n",
              "            Fish             5.582609      629.006522          437.370870   \n",
              "            Other Snacks     4.086747      289.966867          243.512048   \n",
              "            Pasta            4.740104      431.718854          346.956719   \n",
              "            Pizza            4.716667      643.701394          485.565000   \n",
              "            Rice Bowl        4.745814      341.805465          239.483535   \n",
              "            Salad            4.935156      285.931328          212.502266   \n",
              "            Sandwich         4.791718      300.607184          220.736190   \n",
              "            Seafood          4.842390      671.391686          460.336939   \n",
              "            Starters         4.771739      286.220000          205.834275   \n",
              "TYPE_C      Beverages        3.384704      274.926233          217.524398   \n",
              "            Desert           3.436667      476.201000          369.323444   \n",
              "            Other Snacks     3.421429      285.968929          243.259643   \n",
              "            Pasta            3.545361      417.859072          333.459691   \n",
              "            Pizza            3.399421      641.576777          488.513256   \n",
              "            Rice Bowl        3.217814      345.178117          247.121174   \n",
              "            Salad            3.311644      280.275582          211.940856   \n",
              "            Sandwich         3.230035      300.195851          223.144844   \n",
              "            Seafood          3.524638      673.301594          460.982899   \n",
              "            Starters         3.526619      286.719928          206.068201   \n",
              "\n",
              "                          max_base_price  max_checkout_price  \\\n",
              "center_type category                                           \n",
              "TYPE_A      Beverages             515.13              515.13   \n",
              "            Desert                602.43              602.43   \n",
              "            Fish                  631.53              631.53   \n",
              "            Other Snacks          292.03              292.03   \n",
              "            Pasta                 641.23              641.23   \n",
              "            Pizza                 728.53              728.53   \n",
              "            Rice Bowl             466.63              466.63   \n",
              "            Salad                 363.81              363.81   \n",
              "            Sandwich              367.69              367.69   \n",
              "            Seafood               865.27              865.27   \n",
              "            Starters              292.03              292.03   \n",
              "TYPE_B      Beverages             515.13              515.13   \n",
              "            Desert                737.23              737.23   \n",
              "            Fish                  631.53              631.53   \n",
              "            Other Snacks          313.37              313.37   \n",
              "            Pasta                 553.93              553.93   \n",
              "            Pizza                 699.43              699.43   \n",
              "            Rice Bowl             466.63              466.63   \n",
              "            Salad                 362.81              362.81   \n",
              "            Sandwich              376.42              376.42   \n",
              "            Seafood               767.33              767.33   \n",
              "            Starters              292.03              292.03   \n",
              "TYPE_C      Beverages             515.13              515.13   \n",
              "            Desert                563.63              563.63   \n",
              "            Other Snacks          292.03              292.03   \n",
              "            Pasta                 553.93              553.93   \n",
              "            Pizza                 699.43              699.43   \n",
              "            Rice Bowl             466.63              466.63   \n",
              "            Salad                 363.81              363.81   \n",
              "            Sandwich              353.14              353.14   \n",
              "            Seafood               767.33              767.33   \n",
              "            Starters              292.03              292.03   \n",
              "\n",
              "                          homepage_and_email  total_num_of_orders  \n",
              "center_type category                                               \n",
              "TYPE_A      Beverages                   1456               927676  \n",
              "            Desert                       336                53105  \n",
              "            Fish                          44                 8044  \n",
              "            Other Snacks                 223                50474  \n",
              "            Pasta                        425                41427  \n",
              "            Pizza                       3346              1565165  \n",
              "            Rice Bowl                   1230              2561874  \n",
              "            Salad                        781               926559  \n",
              "            Sandwich                    1420              2512111  \n",
              "            Seafood                     1626               513711  \n",
              "            Starters                     414               189400  \n",
              "TYPE_B      Beverages                    450               280274  \n",
              "            Desert                       153                35005  \n",
              "            Fish                          23                 8192  \n",
              "            Other Snacks                  83                29348  \n",
              "            Pasta                        192                29063  \n",
              "            Pizza                       1248               604302  \n",
              "            Rice Bowl                    430               988797  \n",
              "            Salad                        256               277528  \n",
              "            Sandwich                     483               777687  \n",
              "            Seafood                      611               237745  \n",
              "            Starters                     138                86782  \n",
              "TYPE_C      Beverages                    523               261701  \n",
              "            Desert                        90                12516  \n",
              "            Other Snacks                  28                 2230  \n",
              "            Pasta                         97                 6447  \n",
              "            Pizza                       1210               525142  \n",
              "            Rice Bowl                    494               654962  \n",
              "            Salad                        292               391007  \n",
              "            Sandwich                     576              1031963  \n",
              "            Seafood                      414                76067  \n",
              "            Starters                     139                30924  "
            ]
          },
          "execution_count": 160,
          "metadata": {},
          "output_type": "execute_result"
        }
      ],
      "source": [
        "train[(train.homepage_featured==1) & (train.emailer_for_promotion==1)].groupby(by=['center_type','category']).agg(avg_area_op=pd.NamedAgg('op_area','mean'),\n",
        "                                          avg_base_price=pd.NamedAgg('base_price','mean'),\n",
        "                                          avg_checkout_price=pd.NamedAgg('checkout_price','mean'),\n",
        "                                            max_base_price=pd.NamedAgg('base_price','max'),max_checkout_price=pd.NamedAgg('base_price','max'),\n",
        "                                            homepage_and_email=pd.NamedAgg('homepage_featured','count'),\n",
        "                                          total_num_of_orders=pd.NamedAgg(\"num_orders\",'sum'))\n",
        "                                                            "
      ]
    },
    {
      "cell_type": "code",
      "execution_count": 161,
      "id": "4ab2167d",
      "metadata": {
        "colab": {
          "base_uri": "https://localhost:8080/"
        },
        "id": "4ab2167d",
        "outputId": "2d991f2c-d037-434f-ad61-77d79eaa979c",
        "scrolled": true
      },
      "outputs": [
        {
          "data": {
            "text/plain": [
              "0    406693\n",
              "1     49855\n",
              "Name: homepage_featured, dtype: int64"
            ]
          },
          "execution_count": 161,
          "metadata": {},
          "output_type": "execute_result"
        }
      ],
      "source": [
        "train.homepage_featured.value_counts()"
      ]
    },
    {
      "cell_type": "code",
      "execution_count": 162,
      "id": "851a6816",
      "metadata": {
        "id": "851a6816"
      },
      "outputs": [],
      "source": [
        "from sklearn.preprocessing import LabelEncoder\n",
        "le=LabelEncoder()\n",
        "train['category']=le.fit_transform(train['category'])\n",
        "train['cuisine']=le.fit_transform(train['cuisine'])\n",
        "train['center_type']=le.fit_transform(train['center_type'])"
      ]
    },
    {
      "cell_type": "code",
      "execution_count": 163,
      "id": "2ba1ad06",
      "metadata": {
        "id": "2ba1ad06"
      },
      "outputs": [],
      "source": [
        "train.drop(['center_id','meal_id','id'],axis=1,inplace=True)"
      ]
    },
    {
      "cell_type": "code",
      "execution_count": 164,
      "id": "60638a42",
      "metadata": {
        "id": "60638a42"
      },
      "outputs": [],
      "source": [
        "def outlier_func(df,*col):\n",
        "    for i in col:\n",
        "        Q1,Q3 = np.percentile(df[i],[25,75])   \n",
        "        IQR = Q3-Q1                              # getting IQR \n",
        "        LowerRange = Q1-(1.5 * IQR)              # getting Lowrange\n",
        "        UpperRange = Q3+(1.5 * IQR)\n",
        "        index_del=df[(df[i]<LowerRange) | (df[i]>UpperRange)].index\n",
        "        df.drop(index_del,inplace=True)\n",
        "    return df"
      ]
    },
    {
      "cell_type": "code",
      "execution_count": 165,
      "id": "onxSc-MgMrIr",
      "metadata": {
        "colab": {
          "base_uri": "https://localhost:8080/"
        },
        "id": "onxSc-MgMrIr",
        "outputId": "8d1ebad2-1b60-470d-fbb1-abf18754fa0c"
      },
      "outputs": [
        {
          "data": {
            "text/plain": [
              "(456548, 12)"
            ]
          },
          "execution_count": 165,
          "metadata": {},
          "output_type": "execute_result"
        }
      ],
      "source": [
        "train.shape"
      ]
    },
    {
      "cell_type": "code",
      "execution_count": 166,
      "id": "0jnd73FbS9_7",
      "metadata": {
        "colab": {
          "base_uri": "https://localhost:8080/",
          "height": 422
        },
        "id": "0jnd73FbS9_7",
        "outputId": "f0729917-26f1-4a99-d48e-76d8eaf74b53"
      },
      "outputs": [
        {
          "data": {
            "text/html": [
              "<div>\n",
              "<style scoped>\n",
              "    .dataframe tbody tr th:only-of-type {\n",
              "        vertical-align: middle;\n",
              "    }\n",
              "\n",
              "    .dataframe tbody tr th {\n",
              "        vertical-align: top;\n",
              "    }\n",
              "\n",
              "    .dataframe thead th {\n",
              "        text-align: right;\n",
              "    }\n",
              "</style>\n",
              "<table border=\"1\" class=\"dataframe\">\n",
              "  <thead>\n",
              "    <tr style=\"text-align: right;\">\n",
              "      <th></th>\n",
              "      <th>week</th>\n",
              "      <th>checkout_price</th>\n",
              "      <th>base_price</th>\n",
              "      <th>emailer_for_promotion</th>\n",
              "      <th>homepage_featured</th>\n",
              "      <th>num_orders</th>\n",
              "      <th>category</th>\n",
              "      <th>cuisine</th>\n",
              "      <th>city_code</th>\n",
              "      <th>region_code</th>\n",
              "      <th>center_type</th>\n",
              "      <th>op_area</th>\n",
              "    </tr>\n",
              "  </thead>\n",
              "  <tbody>\n",
              "    <tr>\n",
              "      <th>5182</th>\n",
              "      <td>62</td>\n",
              "      <td>145.56</td>\n",
              "      <td>145.56</td>\n",
              "      <td>0</td>\n",
              "      <td>0</td>\n",
              "      <td>379</td>\n",
              "      <td>0</td>\n",
              "      <td>3</td>\n",
              "      <td>614</td>\n",
              "      <td>85</td>\n",
              "      <td>1</td>\n",
              "      <td>3.6</td>\n",
              "    </tr>\n",
              "    <tr>\n",
              "      <th>5232</th>\n",
              "      <td>112</td>\n",
              "      <td>148.47</td>\n",
              "      <td>146.47</td>\n",
              "      <td>0</td>\n",
              "      <td>0</td>\n",
              "      <td>553</td>\n",
              "      <td>0</td>\n",
              "      <td>3</td>\n",
              "      <td>614</td>\n",
              "      <td>85</td>\n",
              "      <td>1</td>\n",
              "      <td>3.6</td>\n",
              "    </tr>\n",
              "    <tr>\n",
              "      <th>5302</th>\n",
              "      <td>62</td>\n",
              "      <td>142.59</td>\n",
              "      <td>143.59</td>\n",
              "      <td>0</td>\n",
              "      <td>0</td>\n",
              "      <td>231</td>\n",
              "      <td>0</td>\n",
              "      <td>3</td>\n",
              "      <td>614</td>\n",
              "      <td>85</td>\n",
              "      <td>1</td>\n",
              "      <td>3.6</td>\n",
              "    </tr>\n",
              "    <tr>\n",
              "      <th>5352</th>\n",
              "      <td>112</td>\n",
              "      <td>151.35</td>\n",
              "      <td>152.35</td>\n",
              "      <td>0</td>\n",
              "      <td>0</td>\n",
              "      <td>298</td>\n",
              "      <td>0</td>\n",
              "      <td>3</td>\n",
              "      <td>614</td>\n",
              "      <td>85</td>\n",
              "      <td>1</td>\n",
              "      <td>3.6</td>\n",
              "    </tr>\n",
              "    <tr>\n",
              "      <th>5375</th>\n",
              "      <td>135</td>\n",
              "      <td>150.38</td>\n",
              "      <td>149.38</td>\n",
              "      <td>0</td>\n",
              "      <td>0</td>\n",
              "      <td>392</td>\n",
              "      <td>0</td>\n",
              "      <td>3</td>\n",
              "      <td>614</td>\n",
              "      <td>85</td>\n",
              "      <td>1</td>\n",
              "      <td>3.6</td>\n",
              "    </tr>\n",
              "    <tr>\n",
              "      <th>...</th>\n",
              "      <td>...</td>\n",
              "      <td>...</td>\n",
              "      <td>...</td>\n",
              "      <td>...</td>\n",
              "      <td>...</td>\n",
              "      <td>...</td>\n",
              "      <td>...</td>\n",
              "      <td>...</td>\n",
              "      <td>...</td>\n",
              "      <td>...</td>\n",
              "      <td>...</td>\n",
              "      <td>...</td>\n",
              "    </tr>\n",
              "    <tr>\n",
              "      <th>456539</th>\n",
              "      <td>137</td>\n",
              "      <td>631.53</td>\n",
              "      <td>631.53</td>\n",
              "      <td>0</td>\n",
              "      <td>0</td>\n",
              "      <td>41</td>\n",
              "      <td>4</td>\n",
              "      <td>0</td>\n",
              "      <td>473</td>\n",
              "      <td>77</td>\n",
              "      <td>0</td>\n",
              "      <td>4.5</td>\n",
              "    </tr>\n",
              "    <tr>\n",
              "      <th>456544</th>\n",
              "      <td>142</td>\n",
              "      <td>581.03</td>\n",
              "      <td>582.03</td>\n",
              "      <td>0</td>\n",
              "      <td>0</td>\n",
              "      <td>42</td>\n",
              "      <td>4</td>\n",
              "      <td>0</td>\n",
              "      <td>473</td>\n",
              "      <td>77</td>\n",
              "      <td>0</td>\n",
              "      <td>4.5</td>\n",
              "    </tr>\n",
              "    <tr>\n",
              "      <th>456545</th>\n",
              "      <td>143</td>\n",
              "      <td>583.03</td>\n",
              "      <td>581.03</td>\n",
              "      <td>0</td>\n",
              "      <td>0</td>\n",
              "      <td>40</td>\n",
              "      <td>4</td>\n",
              "      <td>0</td>\n",
              "      <td>473</td>\n",
              "      <td>77</td>\n",
              "      <td>0</td>\n",
              "      <td>4.5</td>\n",
              "    </tr>\n",
              "    <tr>\n",
              "      <th>456546</th>\n",
              "      <td>144</td>\n",
              "      <td>582.03</td>\n",
              "      <td>581.03</td>\n",
              "      <td>0</td>\n",
              "      <td>0</td>\n",
              "      <td>53</td>\n",
              "      <td>4</td>\n",
              "      <td>0</td>\n",
              "      <td>473</td>\n",
              "      <td>77</td>\n",
              "      <td>0</td>\n",
              "      <td>4.5</td>\n",
              "    </tr>\n",
              "    <tr>\n",
              "      <th>456547</th>\n",
              "      <td>145</td>\n",
              "      <td>581.03</td>\n",
              "      <td>582.03</td>\n",
              "      <td>0</td>\n",
              "      <td>0</td>\n",
              "      <td>27</td>\n",
              "      <td>4</td>\n",
              "      <td>0</td>\n",
              "      <td>473</td>\n",
              "      <td>77</td>\n",
              "      <td>0</td>\n",
              "      <td>4.5</td>\n",
              "    </tr>\n",
              "  </tbody>\n",
              "</table>\n",
              "<p>324507 rows × 12 columns</p>\n",
              "</div>"
            ],
            "text/plain": [
              "        week  checkout_price  base_price  emailer_for_promotion  \\\n",
              "5182      62          145.56      145.56                      0   \n",
              "5232     112          148.47      146.47                      0   \n",
              "5302      62          142.59      143.59                      0   \n",
              "5352     112          151.35      152.35                      0   \n",
              "5375     135          150.38      149.38                      0   \n",
              "...      ...             ...         ...                    ...   \n",
              "456539   137          631.53      631.53                      0   \n",
              "456544   142          581.03      582.03                      0   \n",
              "456545   143          583.03      581.03                      0   \n",
              "456546   144          582.03      581.03                      0   \n",
              "456547   145          581.03      582.03                      0   \n",
              "\n",
              "        homepage_featured  num_orders  category  cuisine  city_code  \\\n",
              "5182                    0         379         0        3        614   \n",
              "5232                    0         553         0        3        614   \n",
              "5302                    0         231         0        3        614   \n",
              "5352                    0         298         0        3        614   \n",
              "5375                    0         392         0        3        614   \n",
              "...                   ...         ...       ...      ...        ...   \n",
              "456539                  0          41         4        0        473   \n",
              "456544                  0          42         4        0        473   \n",
              "456545                  0          40         4        0        473   \n",
              "456546                  0          53         4        0        473   \n",
              "456547                  0          27         4        0        473   \n",
              "\n",
              "        region_code  center_type  op_area  \n",
              "5182             85            1      3.6  \n",
              "5232             85            1      3.6  \n",
              "5302             85            1      3.6  \n",
              "5352             85            1      3.6  \n",
              "5375             85            1      3.6  \n",
              "...             ...          ...      ...  \n",
              "456539           77            0      4.5  \n",
              "456544           77            0      4.5  \n",
              "456545           77            0      4.5  \n",
              "456546           77            0      4.5  \n",
              "456547           77            0      4.5  \n",
              "\n",
              "[324507 rows x 12 columns]"
            ]
          },
          "execution_count": 166,
          "metadata": {},
          "output_type": "execute_result"
        }
      ],
      "source": [
        "outlier_func(train,*(train.columns.to_list()))"
      ]
    },
    {
      "cell_type": "code",
      "execution_count": 167,
      "id": "0nQ7-m2vMyjx",
      "metadata": {
        "colab": {
          "base_uri": "https://localhost:8080/"
        },
        "id": "0nQ7-m2vMyjx",
        "outputId": "def8e978-c6e4-49c4-bc86-aa49e2e06a79"
      },
      "outputs": [
        {
          "data": {
            "text/plain": [
              "(324507, 12)"
            ]
          },
          "execution_count": 167,
          "metadata": {},
          "output_type": "execute_result"
        }
      ],
      "source": [
        "train.shape"
      ]
    },
    {
      "cell_type": "code",
      "execution_count": 168,
      "id": "d05a3e49",
      "metadata": {
        "colab": {
          "base_uri": "https://localhost:8080/"
        },
        "id": "d05a3e49",
        "outputId": "d9e59ccb-47d7-4090-e2ff-616077a18c49"
      },
      "outputs": [
        {
          "data": {
            "text/plain": [
              "Index(['num_orders', 'cuisine', 'op_area', 'category', 'region_code',\n",
              "       'city_code', 'week', 'center_type'],\n",
              "      dtype='object')"
            ]
          },
          "execution_count": 168,
          "metadata": {},
          "output_type": "execute_result"
        }
      ],
      "source": [
        "train2 = train.copy()\n",
        "correlation = train2.corr(method='pearson')\n",
        "columns= correlation.nlargest(8,'num_orders').index\n",
        "columns"
      ]
    },
    {
      "cell_type": "code",
      "execution_count": 169,
      "id": "69a26da4",
      "metadata": {
        "colab": {
          "base_uri": "https://localhost:8080/",
          "height": 206
        },
        "id": "69a26da4",
        "outputId": "12d97ed2-1d61-4f7e-fb38-274dec2856d1"
      },
      "outputs": [
        {
          "data": {
            "text/html": [
              "<div>\n",
              "<style scoped>\n",
              "    .dataframe tbody tr th:only-of-type {\n",
              "        vertical-align: middle;\n",
              "    }\n",
              "\n",
              "    .dataframe tbody tr th {\n",
              "        vertical-align: top;\n",
              "    }\n",
              "\n",
              "    .dataframe thead th {\n",
              "        text-align: right;\n",
              "    }\n",
              "</style>\n",
              "<table border=\"1\" class=\"dataframe\">\n",
              "  <thead>\n",
              "    <tr style=\"text-align: right;\">\n",
              "      <th></th>\n",
              "      <th>week</th>\n",
              "      <th>checkout_price</th>\n",
              "      <th>base_price</th>\n",
              "      <th>emailer_for_promotion</th>\n",
              "      <th>homepage_featured</th>\n",
              "      <th>num_orders</th>\n",
              "      <th>category</th>\n",
              "      <th>cuisine</th>\n",
              "      <th>city_code</th>\n",
              "      <th>region_code</th>\n",
              "      <th>center_type</th>\n",
              "      <th>op_area</th>\n",
              "    </tr>\n",
              "  </thead>\n",
              "  <tbody>\n",
              "    <tr>\n",
              "      <th>5182</th>\n",
              "      <td>62</td>\n",
              "      <td>145.56</td>\n",
              "      <td>145.56</td>\n",
              "      <td>0</td>\n",
              "      <td>0</td>\n",
              "      <td>379</td>\n",
              "      <td>0</td>\n",
              "      <td>3</td>\n",
              "      <td>614</td>\n",
              "      <td>85</td>\n",
              "      <td>1</td>\n",
              "      <td>3.6</td>\n",
              "    </tr>\n",
              "    <tr>\n",
              "      <th>5232</th>\n",
              "      <td>112</td>\n",
              "      <td>148.47</td>\n",
              "      <td>146.47</td>\n",
              "      <td>0</td>\n",
              "      <td>0</td>\n",
              "      <td>553</td>\n",
              "      <td>0</td>\n",
              "      <td>3</td>\n",
              "      <td>614</td>\n",
              "      <td>85</td>\n",
              "      <td>1</td>\n",
              "      <td>3.6</td>\n",
              "    </tr>\n",
              "    <tr>\n",
              "      <th>5302</th>\n",
              "      <td>62</td>\n",
              "      <td>142.59</td>\n",
              "      <td>143.59</td>\n",
              "      <td>0</td>\n",
              "      <td>0</td>\n",
              "      <td>231</td>\n",
              "      <td>0</td>\n",
              "      <td>3</td>\n",
              "      <td>614</td>\n",
              "      <td>85</td>\n",
              "      <td>1</td>\n",
              "      <td>3.6</td>\n",
              "    </tr>\n",
              "    <tr>\n",
              "      <th>5352</th>\n",
              "      <td>112</td>\n",
              "      <td>151.35</td>\n",
              "      <td>152.35</td>\n",
              "      <td>0</td>\n",
              "      <td>0</td>\n",
              "      <td>298</td>\n",
              "      <td>0</td>\n",
              "      <td>3</td>\n",
              "      <td>614</td>\n",
              "      <td>85</td>\n",
              "      <td>1</td>\n",
              "      <td>3.6</td>\n",
              "    </tr>\n",
              "    <tr>\n",
              "      <th>5375</th>\n",
              "      <td>135</td>\n",
              "      <td>150.38</td>\n",
              "      <td>149.38</td>\n",
              "      <td>0</td>\n",
              "      <td>0</td>\n",
              "      <td>392</td>\n",
              "      <td>0</td>\n",
              "      <td>3</td>\n",
              "      <td>614</td>\n",
              "      <td>85</td>\n",
              "      <td>1</td>\n",
              "      <td>3.6</td>\n",
              "    </tr>\n",
              "  </tbody>\n",
              "</table>\n",
              "</div>"
            ],
            "text/plain": [
              "      week  checkout_price  base_price  emailer_for_promotion  \\\n",
              "5182    62          145.56      145.56                      0   \n",
              "5232   112          148.47      146.47                      0   \n",
              "5302    62          142.59      143.59                      0   \n",
              "5352   112          151.35      152.35                      0   \n",
              "5375   135          150.38      149.38                      0   \n",
              "\n",
              "      homepage_featured  num_orders  category  cuisine  city_code  \\\n",
              "5182                  0         379         0        3        614   \n",
              "5232                  0         553         0        3        614   \n",
              "5302                  0         231         0        3        614   \n",
              "5352                  0         298         0        3        614   \n",
              "5375                  0         392         0        3        614   \n",
              "\n",
              "      region_code  center_type  op_area  \n",
              "5182           85            1      3.6  \n",
              "5232           85            1      3.6  \n",
              "5302           85            1      3.6  \n",
              "5352           85            1      3.6  \n",
              "5375           85            1      3.6  "
            ]
          },
          "execution_count": 169,
          "metadata": {},
          "output_type": "execute_result"
        }
      ],
      "source": [
        "train2.head()"
      ]
    },
    {
      "cell_type": "code",
      "execution_count": 170,
      "id": "c6370368",
      "metadata": {
        "id": "c6370368"
      },
      "outputs": [],
      "source": [
        "features = columns.drop(['num_orders'])\n",
        "train3 = train[features]"
      ]
    },
    {
      "cell_type": "code",
      "execution_count": 171,
      "id": "3cdb2988",
      "metadata": {
        "colab": {
          "base_uri": "https://localhost:8080/",
          "height": 206
        },
        "id": "3cdb2988",
        "outputId": "eed4f5e5-0fdb-4933-a512-5957d51c2e09"
      },
      "outputs": [
        {
          "data": {
            "text/html": [
              "<div>\n",
              "<style scoped>\n",
              "    .dataframe tbody tr th:only-of-type {\n",
              "        vertical-align: middle;\n",
              "    }\n",
              "\n",
              "    .dataframe tbody tr th {\n",
              "        vertical-align: top;\n",
              "    }\n",
              "\n",
              "    .dataframe thead th {\n",
              "        text-align: right;\n",
              "    }\n",
              "</style>\n",
              "<table border=\"1\" class=\"dataframe\">\n",
              "  <thead>\n",
              "    <tr style=\"text-align: right;\">\n",
              "      <th></th>\n",
              "      <th>cuisine</th>\n",
              "      <th>op_area</th>\n",
              "      <th>category</th>\n",
              "      <th>region_code</th>\n",
              "      <th>city_code</th>\n",
              "      <th>week</th>\n",
              "      <th>center_type</th>\n",
              "    </tr>\n",
              "  </thead>\n",
              "  <tbody>\n",
              "    <tr>\n",
              "      <th>5182</th>\n",
              "      <td>3</td>\n",
              "      <td>3.6</td>\n",
              "      <td>0</td>\n",
              "      <td>85</td>\n",
              "      <td>614</td>\n",
              "      <td>62</td>\n",
              "      <td>1</td>\n",
              "    </tr>\n",
              "    <tr>\n",
              "      <th>5232</th>\n",
              "      <td>3</td>\n",
              "      <td>3.6</td>\n",
              "      <td>0</td>\n",
              "      <td>85</td>\n",
              "      <td>614</td>\n",
              "      <td>112</td>\n",
              "      <td>1</td>\n",
              "    </tr>\n",
              "    <tr>\n",
              "      <th>5302</th>\n",
              "      <td>3</td>\n",
              "      <td>3.6</td>\n",
              "      <td>0</td>\n",
              "      <td>85</td>\n",
              "      <td>614</td>\n",
              "      <td>62</td>\n",
              "      <td>1</td>\n",
              "    </tr>\n",
              "    <tr>\n",
              "      <th>5352</th>\n",
              "      <td>3</td>\n",
              "      <td>3.6</td>\n",
              "      <td>0</td>\n",
              "      <td>85</td>\n",
              "      <td>614</td>\n",
              "      <td>112</td>\n",
              "      <td>1</td>\n",
              "    </tr>\n",
              "    <tr>\n",
              "      <th>5375</th>\n",
              "      <td>3</td>\n",
              "      <td>3.6</td>\n",
              "      <td>0</td>\n",
              "      <td>85</td>\n",
              "      <td>614</td>\n",
              "      <td>135</td>\n",
              "      <td>1</td>\n",
              "    </tr>\n",
              "  </tbody>\n",
              "</table>\n",
              "</div>"
            ],
            "text/plain": [
              "      cuisine  op_area  category  region_code  city_code  week  center_type\n",
              "5182        3      3.6         0           85        614    62            1\n",
              "5232        3      3.6         0           85        614   112            1\n",
              "5302        3      3.6         0           85        614    62            1\n",
              "5352        3      3.6         0           85        614   112            1\n",
              "5375        3      3.6         0           85        614   135            1"
            ]
          },
          "execution_count": 171,
          "metadata": {},
          "output_type": "execute_result"
        }
      ],
      "source": [
        "train3.head()"
      ]
    },
    {
      "cell_type": "code",
      "execution_count": 172,
      "id": "52cf8d6d",
      "metadata": {
        "id": "52cf8d6d"
      },
      "outputs": [],
      "source": [
        "X=train3.values\n",
        "Y=train['num_orders'].values"
      ]
    },
    {
      "cell_type": "code",
      "execution_count": 173,
      "id": "20d3d5f2",
      "metadata": {
        "id": "20d3d5f2"
      },
      "outputs": [],
      "source": [
        "from sklearn.model_selection import train_test_split"
      ]
    },
    {
      "cell_type": "code",
      "execution_count": 174,
      "id": "d78dc1ba",
      "metadata": {
        "id": "d78dc1ba"
      },
      "outputs": [],
      "source": [
        "x_train,x_test,y_train,y_test=train_test_split(X,Y,test_size=0.2,random_state=101)"
      ]
    },
    {
      "cell_type": "code",
      "execution_count": 175,
      "id": "036b3133",
      "metadata": {
        "id": "036b3133"
      },
      "outputs": [],
      "source": [
        "from sklearn.linear_model import LinearRegression\n",
        "from sklearn.tree import DecisionTreeRegressor as DT\n",
        "from sklearn.neighbors import KNeighborsRegressor\n",
        "from sklearn.ensemble import GradientBoostingRegressor as GBR\n",
        "import xgboost as xg \n",
        "from sklearn import metrics"
      ]
    },
    {
      "cell_type": "code",
      "execution_count": 176,
      "id": "b552a2e8",
      "metadata": {
        "colab": {
          "base_uri": "https://localhost:8080/"
        },
        "id": "b552a2e8",
        "outputId": "95ea3f71-a0e5-443a-8079-79d8c481701c"
      },
      "outputs": [
        {
          "name": "stdout",
          "output_type": "stream",
          "text": [
            "RMSLE score :  0.6267281498809792\n",
            "R2 score :  0.6842853043366774\n",
            "MSE score :  6870.334691113253\n",
            "RMSE :  82.88748211348474\n"
          ]
        }
      ],
      "source": [
        "model_xg=xg.XGBRegressor()\n",
        "model_xg.fit(x_train,y_train)\n",
        "y_pred_xg=model_xg.predict(x_test)\n",
        "y_pred_xg[y_pred_xg<0]=0\n",
        "print(\"RMSLE score : \",np.sqrt(metrics.mean_squared_log_error(y_test,y_pred_xg)))\n",
        "print(\"R2 score : \",metrics.r2_score(y_test, y_pred_xg))\n",
        "print(\"MSE score : \",metrics.mean_squared_error(y_test, y_pred_xg))\n",
        "print(\"RMSE : \",np.sqrt(metrics.mean_squared_error(y_test, y_pred_xg)))"
      ]
    },
    {
      "cell_type": "code",
      "execution_count": 177,
      "id": "b3b456d8",
      "metadata": {
        "colab": {
          "base_uri": "https://localhost:8080/"
        },
        "id": "b3b456d8",
        "outputId": "b0848edb-609e-4947-cd9c-cfe826961eb1"
      },
      "outputs": [
        {
          "name": "stdout",
          "output_type": "stream",
          "text": [
            "RMSLE score :  0.7314314860925774\n",
            "R2 score :  0.43929980031795945\n",
            "MSE score :  12201.516388383852\n",
            "RMSE :  110.46047432626682\n"
          ]
        }
      ],
      "source": [
        "model_DT=DT()\n",
        "model_DT.fit(x_train,y_train)\n",
        "y_pred_DT=model_DT.predict(x_test)\n",
        "y_pred_DT[y_pred_DT<0]=0\n",
        "print(\"RMSLE score : \",np.sqrt(metrics.mean_squared_log_error(y_test,y_pred_DT)))\n",
        "print(\"R2 score : \",metrics.r2_score(y_test, y_pred_DT))\n",
        "print(\"MSE score : \",metrics.mean_squared_error(y_test, y_pred_DT))\n",
        "print(\"RMSE : \",np.sqrt(metrics.mean_squared_error(y_test, y_pred_DT)))"
      ]
    },
    {
      "cell_type": "code",
      "execution_count": 178,
      "id": "a3d6bd6d",
      "metadata": {
        "colab": {
          "base_uri": "https://localhost:8080/"
        },
        "id": "a3d6bd6d",
        "outputId": "5c762659-75be-4c55-9c28-f2f19a7164ab"
      },
      "outputs": [
        {
          "name": "stdout",
          "output_type": "stream",
          "text": [
            "RMSLE score :  0.7208033818940532\n",
            "R2 score :  0.5805895700128938\n",
            "MSE score :  9126.879637012386\n",
            "RMSE :  95.53470383589612\n"
          ]
        }
      ],
      "source": [
        "model_gbr=GBR()\n",
        "model_gbr.fit(x_train,y_train)\n",
        "y_pred_gbr=model_gbr.predict(x_test)\n",
        "y_pred_gbr[y_pred_gbr<0]=0\n",
        "print(\"RMSLE score : \",np.sqrt(metrics.mean_squared_log_error(y_test,y_pred_gbr)))\n",
        "print(\"R2 score : \",metrics.r2_score(y_test, y_pred_gbr))\n",
        "print(\"MSE score : \",metrics.mean_squared_error(y_test, y_pred_gbr))\n",
        "print(\"RMSE : \",np.sqrt(metrics.mean_squared_error(y_test, y_pred_gbr)))"
      ]
    },
    {
      "cell_type": "code",
      "execution_count": 179,
      "id": "e2097be0",
      "metadata": {
        "colab": {
          "base_uri": "https://localhost:8080/"
        },
        "id": "e2097be0",
        "outputId": "cfdd6c1c-7b09-4abf-c5eb-0ea6bd8d5e2b"
      },
      "outputs": [
        {
          "name": "stdout",
          "output_type": "stream",
          "text": [
            "RMSLE score :  1.118376436510372\n",
            "R2 score :  0.05963268053494264\n",
            "MSE score :  20463.533392818597\n",
            "RMSE :  143.05080703309085\n"
          ]
        }
      ],
      "source": [
        "model=LinearRegression()\n",
        "model.fit(x_train,y_train)\n",
        "y_pred=model.predict(x_test)\n",
        "y_pred[y_pred<0]=0\n",
        "print(\"RMSLE score : \",np.sqrt(metrics.mean_squared_log_error(y_test,y_pred)))\n",
        "print(\"R2 score : \",metrics.r2_score(y_test, y_pred))\n",
        "print(\"MSE score : \",metrics.mean_squared_error(y_test, y_pred))\n",
        "print(\"RMSE : \",np.sqrt(metrics.mean_squared_error(y_test, y_pred)))"
      ]
    },
    {
      "cell_type": "code",
      "execution_count": 180,
      "id": "2f172b5b",
      "metadata": {
        "id": "2f172b5b"
      },
      "outputs": [],
      "source": [
        "from sklearn.model_selection import GridSearchCV\n",
        "params = { 'max_depth': [3,6,10],\n",
        "           'learning_rate': [0.01, 0.05, 0.1],\n",
        "           'n_estimators': [100, 500, 1000],\n",
        "           'colsample_bytree': [0.3, 0.7]}\n",
        "clf = GridSearchCV(estimator=model_xg, \n",
        "                  param_grid=params,\n",
        "                  scoring='neg_mean_squared_error', \n",
        "                   verbose=1)"
      ]
    },
    {
      "cell_type": "code",
      "execution_count": 181,
      "id": "lPvXmxJ3UDxT",
      "metadata": {
        "id": "lPvXmxJ3UDxT"
      },
      "outputs": [],
      "source": [
        "# clf.fit(x_train,y_train)"
      ]
    },
    {
      "cell_type": "code",
      "execution_count": 182,
      "id": "ykCJ-4YAQduv",
      "metadata": {
        "id": "ykCJ-4YAQduv"
      },
      "outputs": [],
      "source": [
        "# clf.best_params_"
      ]
    },
    {
      "cell_type": "code",
      "execution_count": 183,
      "id": "e0f02ba8",
      "metadata": {
        "id": "e0f02ba8"
      },
      "outputs": [],
      "source": [
        "import pickle"
      ]
    },
    {
      "cell_type": "code",
      "execution_count": 184,
      "id": "cf53a1d9",
      "metadata": {
        "id": "cf53a1d9"
      },
      "outputs": [],
      "source": [
        "pickle.dump(model_xg,open('new_food_demand.pkl','wb'))"
      ]
    },
    {
      "cell_type": "code",
      "execution_count": 185,
      "id": "9e25c1ca",
      "metadata": {
        "colab": {
          "base_uri": "https://localhost:8080/"
        },
        "id": "9e25c1ca",
        "outputId": "9a81de4c-cb56-4ce4-8dc6-3cc467f88b43"
      },
      "outputs": [
        {
          "data": {
            "text/plain": [
              "XGBRegressor(base_score=0.5, booster='gbtree', callbacks=None,\n",
              "             colsample_bylevel=1, colsample_bynode=1, colsample_bytree=1,\n",
              "             early_stopping_rounds=None, enable_categorical=False,\n",
              "             eval_metric=None, gamma=0, gpu_id=-1, grow_policy='depthwise',\n",
              "             importance_type=None, interaction_constraints='',\n",
              "             learning_rate=0.300000012, max_bin=256, max_cat_to_onehot=4,\n",
              "             max_delta_step=0, max_depth=6, max_leaves=0, min_child_weight=1,\n",
              "             missing=nan, monotone_constraints='()', n_estimators=100, n_jobs=0,\n",
              "             num_parallel_tree=1, predictor='auto', random_state=0, reg_alpha=0,\n",
              "             reg_lambda=1, ...)"
            ]
          },
          "execution_count": 185,
          "metadata": {},
          "output_type": "execute_result"
        }
      ],
      "source": [
        "model_xg"
      ]
    },
    {
      "cell_type": "code",
      "execution_count": 186,
      "id": "865550b1",
      "metadata": {
        "id": "865550b1"
      },
      "outputs": [],
      "source": [
        "test_final=pd.merge(test,meal_info,on='meal_id',how='outer')\n",
        "test_final=pd.merge(test_final,center_info,on='center_id',how='outer')\n",
        "test_final = test_final.drop(['meal_id',\"center_id\"], axis=1)"
      ]
    },
    {
      "cell_type": "code",
      "execution_count": 187,
      "id": "4346c77a",
      "metadata": {
        "colab": {
          "base_uri": "https://localhost:8080/"
        },
        "id": "4346c77a",
        "outputId": "973d5e1c-fb60-486f-ce5c-1a0a1e470ad6"
      },
      "outputs": [
        {
          "data": {
            "text/plain": [
              "(32573, 12)"
            ]
          },
          "execution_count": 187,
          "metadata": {},
          "output_type": "execute_result"
        }
      ],
      "source": [
        "test_final.shape"
      ]
    },
    {
      "cell_type": "code",
      "execution_count": 188,
      "id": "378ed1bc",
      "metadata": {
        "id": "378ed1bc"
      },
      "outputs": [],
      "source": [
        "le=LabelEncoder()\n",
        "test_final['category']=le.fit_transform(test_final['category'])\n",
        "test_final['cuisine']=le.fit_transform(test_final['cuisine'])\n",
        "test_final['center_type']=le.fit_transform(test_final['center_type'])"
      ]
    },
    {
      "cell_type": "code",
      "execution_count": 189,
      "id": "83eac956",
      "metadata": {
        "id": "83eac956"
      },
      "outputs": [],
      "source": [
        "X_test=test_final[features].values"
      ]
    },
    {
      "cell_type": "code",
      "execution_count": 190,
      "id": "29bb2414",
      "metadata": {},
      "outputs": [
        {
          "name": "stdout",
          "output_type": "stream",
          "text": [
            "            id  week  checkout_price  base_price  emailer_for_promotion  \\\n",
            "0      1028232   146          158.11      159.11                      0   \n",
            "1      1262649   147          159.11      159.11                      0   \n",
            "2      1453211   149          157.14      158.14                      0   \n",
            "3      1262599   150          159.14      157.14                      0   \n",
            "4      1495848   151          160.11      159.11                      0   \n",
            "...        ...   ...             ...         ...                    ...   \n",
            "32568  1412025   146          583.03      581.03                      0   \n",
            "32569  1287019   147          582.03      582.03                      0   \n",
            "32570  1396176   149          629.53      629.53                      0   \n",
            "32571  1331977   150          629.53      629.53                      0   \n",
            "32572  1017414   152          630.53      631.53                      0   \n",
            "\n",
            "       homepage_featured  category  cuisine  city_code  region_code  \\\n",
            "0                      0         0        3        647           56   \n",
            "1                      0         0        3        647           56   \n",
            "2                      0         0        3        647           56   \n",
            "3                      0         0        3        647           56   \n",
            "4                      0         0        3        647           56   \n",
            "...                  ...       ...      ...        ...          ...   \n",
            "32568                  0         4        0        473           77   \n",
            "32569                  1         4        0        473           77   \n",
            "32570                  0         4        0        473           77   \n",
            "32571                  0         4        0        473           77   \n",
            "32572                  0         4        0        473           77   \n",
            "\n",
            "       center_type  op_area  \n",
            "0                2      2.0  \n",
            "1                2      2.0  \n",
            "2                2      2.0  \n",
            "3                2      2.0  \n",
            "4                2      2.0  \n",
            "...            ...      ...  \n",
            "32568            0      4.5  \n",
            "32569            0      4.5  \n",
            "32570            0      4.5  \n",
            "32571            0      4.5  \n",
            "32572            0      4.5  \n",
            "\n",
            "[32573 rows x 12 columns]\n"
          ]
        }
      ],
      "source": [
        "print(test_final)"
      ]
    },
    {
      "cell_type": "code",
      "execution_count": 191,
      "id": "e9697ff7",
      "metadata": {
        "id": "e9697ff7"
      },
      "outputs": [],
      "source": [
        "model_pred=model_xg.predict(X_test)\n",
        "model_pred[model_pred<0]=0"
      ]
    },
    {
      "cell_type": "code",
      "execution_count": 192,
      "id": "90a9551c",
      "metadata": {
        "id": "90a9551c"
      },
      "outputs": [],
      "source": [
        "submission=pd.DataFrame({'id':test_final['id'], 'week':test_final['week'],'base_price':test_final['base_price'], 'category':test_final['category'], 'cuisine':test_final['cuisine'], 'city_code':test_final['city_code'], 'region_code':test_final['region_code'],'predicted_num_orders':model_pred})"
      ]
    },
    {
      "cell_type": "code",
      "execution_count": 193,
      "id": "b5736d12",
      "metadata": {
        "id": "b5736d12"
      },
      "outputs": [],
      "source": [
        "submission.to_csv('submission.csv',index=False)"
      ]
    },
    {
      "cell_type": "code",
      "execution_count": 194,
      "id": "5b3a1ab4",
      "metadata": {
        "colab": {
          "base_uri": "https://localhost:8080/",
          "height": 299
        },
        "id": "5b3a1ab4",
        "outputId": "9a97c8b3-de90-419e-947d-8e71520ceef3"
      },
      "outputs": [
        {
          "data": {
            "text/html": [
              "<div>\n",
              "<style scoped>\n",
              "    .dataframe tbody tr th:only-of-type {\n",
              "        vertical-align: middle;\n",
              "    }\n",
              "\n",
              "    .dataframe tbody tr th {\n",
              "        vertical-align: top;\n",
              "    }\n",
              "\n",
              "    .dataframe thead th {\n",
              "        text-align: right;\n",
              "    }\n",
              "</style>\n",
              "<table border=\"1\" class=\"dataframe\">\n",
              "  <thead>\n",
              "    <tr style=\"text-align: right;\">\n",
              "      <th></th>\n",
              "      <th>id</th>\n",
              "      <th>week</th>\n",
              "      <th>base_price</th>\n",
              "      <th>category</th>\n",
              "      <th>cuisine</th>\n",
              "      <th>city_code</th>\n",
              "      <th>region_code</th>\n",
              "      <th>num_orders</th>\n",
              "    </tr>\n",
              "  </thead>\n",
              "  <tbody>\n",
              "    <tr>\n",
              "      <th>count</th>\n",
              "      <td>3.257300e+04</td>\n",
              "      <td>32573.000000</td>\n",
              "      <td>32573.000000</td>\n",
              "      <td>32573.000000</td>\n",
              "      <td>32573.000000</td>\n",
              "      <td>32573.000000</td>\n",
              "      <td>32573.000000</td>\n",
              "      <td>32573.000000</td>\n",
              "    </tr>\n",
              "    <tr>\n",
              "      <th>mean</th>\n",
              "      <td>1.248476e+06</td>\n",
              "      <td>150.477819</td>\n",
              "      <td>356.493615</td>\n",
              "      <td>5.233138</td>\n",
              "      <td>1.550517</td>\n",
              "      <td>601.519971</td>\n",
              "      <td>56.712154</td>\n",
              "      <td>174.511383</td>\n",
              "    </tr>\n",
              "    <tr>\n",
              "      <th>std</th>\n",
              "      <td>1.441580e+05</td>\n",
              "      <td>2.864072</td>\n",
              "      <td>155.150101</td>\n",
              "      <td>4.391436</td>\n",
              "      <td>1.107067</td>\n",
              "      <td>65.996677</td>\n",
              "      <td>17.641174</td>\n",
              "      <td>130.614090</td>\n",
              "    </tr>\n",
              "    <tr>\n",
              "      <th>min</th>\n",
              "      <td>1.000085e+06</td>\n",
              "      <td>146.000000</td>\n",
              "      <td>89.240000</td>\n",
              "      <td>0.000000</td>\n",
              "      <td>0.000000</td>\n",
              "      <td>456.000000</td>\n",
              "      <td>23.000000</td>\n",
              "      <td>0.000000</td>\n",
              "    </tr>\n",
              "    <tr>\n",
              "      <th>25%</th>\n",
              "      <td>1.123969e+06</td>\n",
              "      <td>148.000000</td>\n",
              "      <td>243.500000</td>\n",
              "      <td>0.000000</td>\n",
              "      <td>1.000000</td>\n",
              "      <td>556.000000</td>\n",
              "      <td>34.000000</td>\n",
              "      <td>61.204964</td>\n",
              "    </tr>\n",
              "    <tr>\n",
              "      <th>50%</th>\n",
              "      <td>1.247296e+06</td>\n",
              "      <td>150.000000</td>\n",
              "      <td>321.130000</td>\n",
              "      <td>5.000000</td>\n",
              "      <td>2.000000</td>\n",
              "      <td>596.000000</td>\n",
              "      <td>56.000000</td>\n",
              "      <td>139.115173</td>\n",
              "    </tr>\n",
              "    <tr>\n",
              "      <th>75%</th>\n",
              "      <td>1.372971e+06</td>\n",
              "      <td>153.000000</td>\n",
              "      <td>455.930000</td>\n",
              "      <td>9.000000</td>\n",
              "      <td>3.000000</td>\n",
              "      <td>651.000000</td>\n",
              "      <td>77.000000</td>\n",
              "      <td>269.532196</td>\n",
              "    </tr>\n",
              "    <tr>\n",
              "      <th>max</th>\n",
              "      <td>1.499996e+06</td>\n",
              "      <td>155.000000</td>\n",
              "      <td>1112.620000</td>\n",
              "      <td>13.000000</td>\n",
              "      <td>3.000000</td>\n",
              "      <td>713.000000</td>\n",
              "      <td>93.000000</td>\n",
              "      <td>574.481689</td>\n",
              "    </tr>\n",
              "  </tbody>\n",
              "</table>\n",
              "</div>"
            ],
            "text/plain": [
              "                 id          week    base_price      category       cuisine  \\\n",
              "count  3.257300e+04  32573.000000  32573.000000  32573.000000  32573.000000   \n",
              "mean   1.248476e+06    150.477819    356.493615      5.233138      1.550517   \n",
              "std    1.441580e+05      2.864072    155.150101      4.391436      1.107067   \n",
              "min    1.000085e+06    146.000000     89.240000      0.000000      0.000000   \n",
              "25%    1.123969e+06    148.000000    243.500000      0.000000      1.000000   \n",
              "50%    1.247296e+06    150.000000    321.130000      5.000000      2.000000   \n",
              "75%    1.372971e+06    153.000000    455.930000      9.000000      3.000000   \n",
              "max    1.499996e+06    155.000000   1112.620000     13.000000      3.000000   \n",
              "\n",
              "          city_code   region_code    num_orders  \n",
              "count  32573.000000  32573.000000  32573.000000  \n",
              "mean     601.519971     56.712154    174.511383  \n",
              "std       65.996677     17.641174    130.614090  \n",
              "min      456.000000     23.000000      0.000000  \n",
              "25%      556.000000     34.000000     61.204964  \n",
              "50%      596.000000     56.000000    139.115173  \n",
              "75%      651.000000     77.000000    269.532196  \n",
              "max      713.000000     93.000000    574.481689  "
            ]
          },
          "execution_count": 194,
          "metadata": {},
          "output_type": "execute_result"
        }
      ],
      "source": [
        "submission.describe()"
      ]
    }
  ],
  "metadata": {
    "colab": {
      "collapsed_sections": [],
      "name": "Final Food demand forecasting.ipynb",
      "provenance": []
    },
    "interpreter": {
      "hash": "1bac1f31f9f17b42c6ed85390b47cf6bd072f713dfc62feae2f5858eee546f57"
    },
    "kernelspec": {
      "display_name": "Python 3.10.4 64-bit",
      "language": "python",
      "name": "python3"
    },
    "language_info": {
      "codemirror_mode": {
        "name": "ipython",
        "version": 3
      },
      "file_extension": ".py",
      "mimetype": "text/x-python",
      "name": "python",
      "nbconvert_exporter": "python",
      "pygments_lexer": "ipython3",
      "version": "3.10.4"
    }
  },
  "nbformat": 4,
  "nbformat_minor": 5
}
